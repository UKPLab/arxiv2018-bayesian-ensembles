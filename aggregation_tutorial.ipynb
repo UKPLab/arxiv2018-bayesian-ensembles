{
 "cells": [
  {
   "cell_type": "markdown",
   "id": "increasing-blind",
   "metadata": {},
   "source": [
    "# Aggregating and Learning from Multiple Annotators: Practical\n",
    "\n",
    "This part of the tutorial has the following goals:\n",
    "   * Learn to use Dawid and Skene (1979) models to aggregate classifications from a crowd.\n",
    "   * Understand the effect of key hyperparameters in the above models.\n",
    "   * Learn how to train a downstream model directly from crowdsourced annotations using the CrowdLayer (Rodrigues and Pereira, 2018).\n",
    "   <!-- * Learn to apply Bayesian sequence combination (BSC) to aggregate sequence labels from crowds (Simpson and Gurevych 2019). (this needs the NER dataset or something similar) --> \n",
    "   \n",
    "As an example dataset, we will work with crowdsourced annotations for the _recognising textual entailment (RTE)_ task. This dataset is the PASCAL RTE-1 corpus containing 800 text-hypothesis pairs for which gold annotations were provided by Dagan et al. (2006). Snow et al. (2008) produced the crowdsourced dataset for the corpus:  164 annotators produced 10 annotations for each sentence-pair. \n",
    "\n",
    "\n",
    "> Ido  Dagan,  Oren  Glickman,  and  Bernardo  Magnini.2006.  The PASCAL recognising textual entailmentchallenge.In  Juan  Qui ̃nonero-Candela,  Ido  Da-gan, Bernardo Magnini, and F. d’Alch ́e Buc, editors,MLCW 2005, number 3944 in LNAI, pages 177–190.Springer.\n",
    "\n",
    "> Rion Snow,  Brendan O’Connor,  Daniel Jurafsky,  andAndrew  Y.  Ng.  2008.    Cheap  and  fast  -  but  is  itgood? evaluating non-expert annotations for naturallanguage tasks. InProc. of EMNLP, pages 254–263.\n",
    "\n",
    "First, we apply a variational Bayesian variant of Dawid & Skene's 1979 method to infer the true labels independently. Then, we train classifiers with both aggregated labels and the raw crowdsourced labels using the CrowdLayer method."
   ]
  },
  {
   "cell_type": "markdown",
   "id": "gothic-visit",
   "metadata": {},
   "source": [
    "## Importing Required Packages\n",
    "To run this notebook, please checkout the whole [Github repository](https://github.com/UKPLab/arxiv2018-bayesian-ensembles/) and run it within that directory."
   ]
  },
  {
   "cell_type": "code",
   "execution_count": 1,
   "id": "tested-destiny",
   "metadata": {},
   "outputs": [],
   "source": [
    "# pick up any changes to the imported modules automatically\n",
    "%load_ext autoreload\n",
    "%autoreload 2\n",
    "\n",
    "import pandas as pd\n",
    "import os\n",
    "import numpy as np\n",
    "import random\n",
    "from sklearn.metrics import accuracy_score, f1_score, roc_curve, log_loss\n",
    "import matplotlib.pyplot as plt\n",
    "import matplotlib.patheffects as PathEffects\n",
    "from scipy.stats import beta\n",
    "\n",
    "import logging\n",
    "logging.basicConfig(level=logging.DEBUG)\n",
    "\n",
    "# code included in this directory:\n",
    "import sys\n",
    "sys.path.append('src')\n",
    "from bayesian_combination.ibcc import IBCC"
   ]
  },
  {
   "cell_type": "markdown",
   "id": "coated-skating",
   "metadata": {},
   "source": [
    "## Loading the Data\n",
    "\n",
    "   1. Download the [text data from here](https://sites.google.com/site/nlpannotations/snow2008_mturk_data_with_orig_files_assembled_201904.zip?attredirects=0) \n",
    "   1. Download [the crowd labels from here](https://sites.google.com/site/nlpannotations/all_collected_data.tgz?attredirects=0) \n",
    "   1. Unzip the files. \n",
    "   1. Place the unzipped directories inside the directory containing this notebook.\n",
    "\n",
    "The following code should show that the data folders 'snow2008_mturk_data_with_orig_files_assembled_201904' and 'all_collected_data' are in the current directory and the 'rte' folder is inside 'snow2008_mturk_data_with_orig_files_assembled_201904'."
   ]
  },
  {
   "cell_type": "code",
   "execution_count": 3,
   "id": "correct-league",
   "metadata": {},
   "outputs": [
    {
     "name": "stdout",
     "output_type": "stream",
     "text": [
      "['setup.sh', 'snow2008_mturk_data_with_orig_files_assembled_201904', 'crowd_layer', 'batch_scripts', '.DS_Store', 'LICENSE', 'requirements.txt', 'config', 'aggregation_tutorial.ipynb', 'output', 'README.md', 'requirements_expts.txt', 'NOTICE.txt', '.gitignore', '.project', '.pydevproject', '.ipynb_checkpoints', 'documents', 'all_collected_data', '.git', 'setup_with_expts.sh', 'data', 'glove.6B', '.idea', 'src']\n",
      "['.DS_Store', 'tempeval', 'all_collected_data.tgz', 'rte', 'README.txt', 'affect_emotion']\n"
     ]
    }
   ],
   "source": [
    "print(os.listdir('.'))\n",
    "print(os.listdir('./snow2008_mturk_data_with_orig_files_assembled_201904'))\n",
    "\n",
    "rte_text_dir = './snow2008_mturk_data_with_orig_files_assembled_201904/rte'\n",
    "rte_text_file = os.path.join(rte_text_dir, 'rte1.tsv')\n",
    "rte_anno_file = './all_collected_data/rte.standardized.tsv'"
   ]
  },
  {
   "cell_type": "code",
   "execution_count": 4,
   "id": "exposed-thailand",
   "metadata": {
    "scrolled": true
   },
   "outputs": [
    {
     "name": "stdout",
     "output_type": "stream",
     "text": [
      "Gold-labelled text data: \n",
      "\n",
      ">gold: True\n",
      ">text: Mexico City has a very bad pollution problem because the mountains around the city act as walls and block in dust and smog.\n",
      ">hypothesis: Poor air circulation out of the mountain-walled Mexico City aggravates pollution.\n",
      "\n",
      "\n",
      "Crowdsourced labels: \n",
      "\n",
      ">worker: A19IBSKBTABMR3\n",
      ">item_id: 266\n",
      ">label: 1\n"
     ]
    }
   ],
   "source": [
    "# Load the text.\n",
    "textdata = pd.read_csv(\n",
    "    rte_text_file, \n",
    "    sep='\\t', \n",
    "    usecols=[0, 1, 3, 4], \n",
    "    index_col=0, \n",
    "    names=['item_id', 'gold', 'text', 'hypothesis'],\n",
    "    skiprows=1\n",
    ")\n",
    "\n",
    "# Load the crowdsourced data\n",
    "crowddata = pd.read_csv(\n",
    "    rte_anno_file, \n",
    "    sep='\\t', \n",
    "    usecols=[0, 1, 2, 3],\n",
    "    index_col=0,\n",
    "    names=['annotation_id', 'worker', 'item_id', 'label'],\n",
    "    skiprows=1\n",
    ")\n",
    "\n",
    "print('Gold-labelled text data: \\n')\n",
    "\n",
    "for column in textdata:\n",
    "    print(f'>{column}: {textdata[column].iloc[0]}')\n",
    "\n",
    "print('\\n\\nCrowdsourced labels: \\n')\n",
    "    \n",
    "for column in crowddata:\n",
    "    print(f'>{column}: {crowddata[column].iloc[0]}')"
   ]
  },
  {
   "cell_type": "code",
   "execution_count": 5,
   "id": "eleven-concentrate",
   "metadata": {},
   "outputs": [
    {
     "name": "stdout",
     "output_type": "stream",
     "text": [
      "400\n",
      "400\n"
     ]
    }
   ],
   "source": [
    "# Put the gold data into a vector\n",
    "num_items = np.max(textdata.index) + 1\n",
    "\n",
    "gold_labels = np.zeros(num_items) - 1\n",
    "gold_labels[textdata.index] = textdata[\"gold\"].astype(int)\n",
    "\n",
    "print(np.sum(gold_labels==0))\n",
    "print(np.sum(gold_labels==1))"
   ]
  },
  {
   "cell_type": "code",
   "execution_count": 13,
   "id": "widespread-story",
   "metadata": {},
   "outputs": [
    {
     "name": "stdout",
     "output_type": "stream",
     "text": [
      "[[-1. -1. -1. ... -1. -1. -1.]\n",
      " [-1. -1. -1. ... -1. -1. -1.]\n",
      " [-1. -1. -1. ... -1. -1. -1.]\n",
      " ...\n",
      " [-1. -1. -1. ... -1. -1. -1.]\n",
      " [-1. -1. -1. ... -1. -1. -1.]\n",
      " [ 1.  0. -1. ... -1. -1. -1.]]\n",
      "3419\n",
      "4581\n",
      "[0 2]\n"
     ]
    }
   ],
   "source": [
    "# Convert the Amazon MT worker IDs to consecutive numbers\n",
    "uworkers, worker_ids = np.unique(crowddata[\"worker\"], return_inverse=True)\n",
    "num_workers = np.max(worker_ids) + 1\n",
    "\n",
    "# Put the crowdsourced data into matrix format\n",
    "crowd_matrix = np.zeros((num_items, num_workers)) - 1  # use -1 to indicate missing labels\n",
    "\n",
    "# fill the matrix\n",
    "crowd_matrix[crowddata[\"item_id\"].astype(int), worker_ids] = crowddata[\"label\"].astype(int)\n",
    "\n",
    "print(crowd_matrix)\n",
    "print(np.sum(crowd_matrix == 0))\n",
    "print(np.sum(crowd_matrix == 1))\n",
    "\n",
    "# limit the number of labels per data point to 5\n",
    "def reduce_num_annotations(crowd_matrix, max_workers_per_item):\n",
    "    for i in range(num_items):\n",
    "        row = crowd_matrix[i, :]\n",
    "        available = np.argwhere(row > -1).flatten()\n",
    "        if len(available) > max_workers_per_item:\n",
    "            to_be_removed = available[max_workers_per_item:]\n",
    "            crowd_matrix[i, to_be_removed] = -1\n",
    "            \n",
    "    return crowd_matrix\n",
    "\n",
    "max_workers_per_item = 2\n",
    "crowd_matrix = reduce_num_annotations(crowd_matrix, max_workers_per_item)\n",
    "\n",
    "print(np.unique(np.sum(crowd_matrix > -1, axis=1)))"
   ]
  },
  {
   "cell_type": "markdown",
   "id": "moderate-cinema",
   "metadata": {},
   "source": [
    "Let's test some baselines. Firstly, the majority class baseline, then the majority vote."
   ]
  },
  {
   "cell_type": "code",
   "execution_count": 14,
   "id": "powerful-columbus",
   "metadata": {},
   "outputs": [],
   "source": [
    "baseline_predictions = np.zeros(num_items)\n",
    "\n",
    "total_votes = np.sum(crowd_matrix != -1, axis=1)\n",
    "votes = np.zeros(num_items)\n",
    "votes[total_votes > 0] = np.sum(crowd_matrix == 1, axis=1)[total_votes > 0] / total_votes[total_votes > 0].astype(float)\n",
    "\n",
    "mv_predictions = np.zeros(num_items, dtype=int)\n",
    "mv_predictions[(total_votes > 0) & (votes>0.5)] = 1"
   ]
  },
  {
   "cell_type": "markdown",
   "id": "conservative-sterling",
   "metadata": {},
   "source": [
    "Write a function to compute and show some performance metrics:"
   ]
  },
  {
   "cell_type": "code",
   "execution_count": 15,
   "id": "owned-nightlife",
   "metadata": {},
   "outputs": [
    {
     "name": "stdout",
     "output_type": "stream",
     "text": [
      "Method = majority class\n",
      "Accuracy = 0.5\n",
      "F1 score = 0.0\n",
      "Cross entropy error = 17.269388197455342\n",
      "Method = majority_vote\n",
      "Accuracy = 0.6775\n",
      "F1 score = 0.6550802139037434\n",
      "Cross entropy error = 5.296029833654923\n"
     ]
    }
   ],
   "source": [
    "def show_metrics(gold_labels, prob_class_1, predicted_labels, method_names):\n",
    "        \n",
    "    idxs = gold_labels != -1\n",
    "    gold_labels = gold_labels[idxs]\n",
    "        \n",
    "    for m, method_name in enumerate(method_names):\n",
    "        print('Method = {}'.format(method_name))\n",
    "        \n",
    "        acc = accuracy_score(gold_labels, predicted_labels[m][idxs])\n",
    "        print('Accuracy = {}'.format(acc))\n",
    "    \n",
    "        f1 = f1_score(gold_labels, predicted_labels[m][idxs])\n",
    "        print('F1 score = {}'.format(f1))\n",
    "        \n",
    "        ll = log_loss(gold_labels, prob_class_1[m][idxs])\n",
    "        print('Cross entropy error = {}'.format(ll))\n",
    "        \n",
    "show_metrics(\n",
    "    gold_labels, \n",
    "    [baseline_predictions, votes], \n",
    "    [baseline_predictions, mv_predictions], \n",
    "    ['majority class', 'majority_vote']\n",
    ")"
   ]
  },
  {
   "cell_type": "markdown",
   "id": "ultimate-steam",
   "metadata": {},
   "source": [
    "## Dawid & Skene (IBCC-VB)\n",
    "\n",
    "The model we run here is IBCC-VB, which is a modification to the Dawid & Skene (1979) model. The [repository is available here](https://github.com/ukplab/arxiv2018-bayesian-ensembles). For a recap of the model, please [see the tutorial slides](https://sites.google.com/view/alma-tutorial) or the description in [Paun et al. (2018), Comparing Bayesian Models of Annotation](https://transacl.org/ojs/index.php/tacl/article/view/1430).\n",
    "\n",
    "\n",
    "\n",
    "IBCC-VB differs from the original Dawid & Skene method in the following ways:\n",
    "   * The parameters have prior distributions -- it is a Bayesian treatment of the model.\n",
    "   * Approximate inference is performed using variational Bayes instead of maximum likelihood EM.\n",
    "This has some benefits: \n",
    "   * We can include prior information about labeller reliability and class imbalances. This is particularly useful when to avoid the nonidentifiability problem of unsupervised methods by encoding the prior belief that labellers are more likely to give correct answers than incorrect ones.\n",
    "   * The inference method integrates over unknown parameters, reducing the influence of workers who are known with less confidence. For example, if a worker labels two data points and gets them right, how strongly do we trust them on a third data point? Usually, we would not be very conifdent of their reliability despite a 100% accuracy record.  We may even trust them less than someone who labelled 1000 data points and got 900 right. Bayesian inference takes care of this, whereas maximum likelihood estimation can be led astray by workers who have completed few tasks."
   ]
  },
  {
   "cell_type": "markdown",
   "id": "spanish-testament",
   "metadata": {},
   "source": [
    "### Run IBCC with a Matrix of Annotations"
   ]
  },
  {
   "cell_type": "code",
   "execution_count": 16,
   "id": "round-carnival",
   "metadata": {},
   "outputs": [
    {
     "name": "stdout",
     "output_type": "stream",
     "text": [
      "Method = majority class\n",
      "Accuracy = 0.5\n",
      "F1 score = 0.0\n",
      "Cross entropy error = 17.269388197455342\n",
      "Method = majority_vote\n",
      "Accuracy = 0.6775\n",
      "F1 score = 0.6550802139037434\n",
      "Cross entropy error = 5.296029833654923\n",
      "Method = IBCC-VB\n",
      "Accuracy = 0.72\n",
      "F1 score = 0.7419354838709677\n",
      "Cross entropy error = 0.5805840743493021\n"
     ]
    }
   ],
   "source": [
    "ibcc_model = IBCC(\n",
    "    L=2, # number of classes\n",
    "    K=num_workers, \n",
    ")\n",
    "\n",
    "# Run inference to obtain an array of size num_data_points x num_classes containing the probabilities of the true labels\n",
    "posterior, ibcc_predictions, _ = ibcc_model.fit_predict(crowd_matrix)\n",
    "\n",
    "# Compare with the ground truth\n",
    "show_metrics(\n",
    "    gold_labels, \n",
    "    [baseline_predictions, votes, posterior[:, 1]], \n",
    "    [baseline_predictions, mv_predictions, ibcc_predictions], \n",
    "    ['majority class', 'majority_vote', 'IBCC-VB']\n",
    ")"
   ]
  },
  {
   "cell_type": "markdown",
   "id": "yellow-canberra",
   "metadata": {},
   "source": [
    "## Evaluating Annotators\n",
    "\n",
    "The IBCC-VB model learns a 'confusion matrix' parameter for each annotator. This parameter describes the reliability of the worker. IBCC-VB provides the expected value of this parameter, as shown in the code below. Each row of the matrix is the likelihood distribution of the annotator's labels given the ground truth. High values on the diagonals indicate an accurate worker."
   ]
  },
  {
   "cell_type": "code",
   "execution_count": 10,
   "id": "advance-bolivia",
   "metadata": {},
   "outputs": [
    {
     "name": "stderr",
     "output_type": "stream",
     "text": [
      "DEBUG:matplotlib.font_manager:findfont: Matching sans\\-serif:style=normal:variant=normal:weight=normal:stretch=normal:size=10.0.\n",
      "DEBUG:matplotlib.font_manager:findfont: score(<Font 'STIXGeneral' (STIXGeneral.ttf) normal normal 400 normal>) = 10.05\n",
      "DEBUG:matplotlib.font_manager:findfont: score(<Font 'STIXGeneral' (STIXGeneralBol.ttf) normal normal 700 normal>) = 10.335\n",
      "DEBUG:matplotlib.font_manager:findfont: score(<Font 'STIXNonUnicode' (STIXNonUniBol.ttf) normal normal 700 normal>) = 10.335\n",
      "DEBUG:matplotlib.font_manager:findfont: score(<Font 'DejaVu Sans Mono' (DejaVuSansMono.ttf) normal normal 400 normal>) = 10.05\n",
      "DEBUG:matplotlib.font_manager:findfont: score(<Font 'DejaVu Serif Display' (DejaVuSerifDisplay.ttf) normal normal 400 normal>) = 10.05\n",
      "DEBUG:matplotlib.font_manager:findfont: score(<Font 'cmtt10' (cmtt10.ttf) normal normal 400 normal>) = 10.05\n",
      "DEBUG:matplotlib.font_manager:findfont: score(<Font 'STIXSizeTwoSym' (STIXSizTwoSymReg.ttf) normal normal 400 normal>) = 10.05\n",
      "DEBUG:matplotlib.font_manager:findfont: score(<Font 'DejaVu Serif' (DejaVuSerif-BoldItalic.ttf) italic normal 700 normal>) = 11.335\n",
      "DEBUG:matplotlib.font_manager:findfont: score(<Font 'STIXSizeFourSym' (STIXSizFourSymBol.ttf) normal normal 700 normal>) = 10.335\n",
      "DEBUG:matplotlib.font_manager:findfont: score(<Font 'DejaVu Sans' (DejaVuSans.ttf) normal normal 400 normal>) = 0.05\n",
      "DEBUG:matplotlib.font_manager:findfont: score(<Font 'DejaVu Serif' (DejaVuSerif.ttf) normal normal 400 normal>) = 10.05\n",
      "DEBUG:matplotlib.font_manager:findfont: score(<Font 'cmex10' (cmex10.ttf) normal normal 400 normal>) = 10.05\n",
      "DEBUG:matplotlib.font_manager:findfont: score(<Font 'STIXGeneral' (STIXGeneralBolIta.ttf) italic normal 700 normal>) = 11.335\n",
      "DEBUG:matplotlib.font_manager:findfont: score(<Font 'DejaVu Sans' (DejaVuSans-Bold.ttf) normal normal 700 normal>) = 0.33499999999999996\n",
      "DEBUG:matplotlib.font_manager:findfont: score(<Font 'STIXSizeFourSym' (STIXSizFourSymReg.ttf) normal normal 400 normal>) = 10.05\n",
      "DEBUG:matplotlib.font_manager:findfont: score(<Font 'cmr10' (cmr10.ttf) normal normal 400 normal>) = 10.05\n",
      "DEBUG:matplotlib.font_manager:findfont: score(<Font 'STIXSizeOneSym' (STIXSizOneSymBol.ttf) normal normal 700 normal>) = 10.335\n",
      "DEBUG:matplotlib.font_manager:findfont: score(<Font 'STIXSizeThreeSym' (STIXSizThreeSymBol.ttf) normal normal 700 normal>) = 10.335\n",
      "DEBUG:matplotlib.font_manager:findfont: score(<Font 'cmb10' (cmb10.ttf) normal normal 400 normal>) = 10.05\n",
      "DEBUG:matplotlib.font_manager:findfont: score(<Font 'DejaVu Sans' (DejaVuSans-BoldOblique.ttf) oblique normal 700 normal>) = 1.335\n",
      "DEBUG:matplotlib.font_manager:findfont: score(<Font 'cmsy10' (cmsy10.ttf) normal normal 400 normal>) = 10.05\n",
      "DEBUG:matplotlib.font_manager:findfont: score(<Font 'STIXNonUnicode' (STIXNonUniIta.ttf) italic normal 400 normal>) = 11.05\n",
      "DEBUG:matplotlib.font_manager:findfont: score(<Font 'DejaVu Sans Mono' (DejaVuSansMono-Bold.ttf) normal normal 700 normal>) = 10.335\n",
      "DEBUG:matplotlib.font_manager:findfont: score(<Font 'DejaVu Sans Display' (DejaVuSansDisplay.ttf) normal normal 400 normal>) = 10.05\n",
      "DEBUG:matplotlib.font_manager:findfont: score(<Font 'STIXGeneral' (STIXGeneralItalic.ttf) italic normal 400 normal>) = 11.05\n",
      "DEBUG:matplotlib.font_manager:findfont: score(<Font 'DejaVu Sans Mono' (DejaVuSansMono-BoldOblique.ttf) oblique normal 700 normal>) = 11.335\n",
      "DEBUG:matplotlib.font_manager:findfont: score(<Font 'STIXSizeFiveSym' (STIXSizFiveSymReg.ttf) normal normal 400 normal>) = 10.05\n",
      "DEBUG:matplotlib.font_manager:findfont: score(<Font 'DejaVu Sans Mono' (DejaVuSansMono-Oblique.ttf) oblique normal 400 normal>) = 11.05\n",
      "DEBUG:matplotlib.font_manager:findfont: score(<Font 'STIXNonUnicode' (STIXNonUni.ttf) normal normal 400 normal>) = 10.05\n",
      "DEBUG:matplotlib.font_manager:findfont: score(<Font 'DejaVu Serif' (DejaVuSerif-Italic.ttf) italic normal 400 normal>) = 11.05\n",
      "DEBUG:matplotlib.font_manager:findfont: score(<Font 'STIXSizeThreeSym' (STIXSizThreeSymReg.ttf) normal normal 400 normal>) = 10.05\n",
      "DEBUG:matplotlib.font_manager:findfont: score(<Font 'DejaVu Serif' (DejaVuSerif-Bold.ttf) normal normal 700 normal>) = 10.335\n",
      "DEBUG:matplotlib.font_manager:findfont: score(<Font 'cmmi10' (cmmi10.ttf) normal normal 400 normal>) = 10.05\n",
      "DEBUG:matplotlib.font_manager:findfont: score(<Font 'STIXSizeTwoSym' (STIXSizTwoSymBol.ttf) normal normal 700 normal>) = 10.335\n",
      "DEBUG:matplotlib.font_manager:findfont: score(<Font 'DejaVu Sans' (DejaVuSans-Oblique.ttf) oblique normal 400 normal>) = 1.05\n",
      "DEBUG:matplotlib.font_manager:findfont: score(<Font 'STIXSizeOneSym' (STIXSizOneSymReg.ttf) normal normal 400 normal>) = 10.05\n",
      "DEBUG:matplotlib.font_manager:findfont: score(<Font 'cmss10' (cmss10.ttf) normal normal 400 normal>) = 10.05\n",
      "DEBUG:matplotlib.font_manager:findfont: score(<Font 'STIXNonUnicode' (STIXNonUniBolIta.ttf) italic normal 700 normal>) = 11.335\n",
      "DEBUG:matplotlib.font_manager:findfont: score(<Font 'STIXIntegralsD' (STIXIntDBol.otf) normal normal 700 normal>) = 10.335\n",
      "DEBUG:matplotlib.font_manager:findfont: score(<Font 'Raanana' (Raanana.ttc) normal normal 400 normal>) = 10.05\n",
      "DEBUG:matplotlib.font_manager:findfont: score(<Font 'Noto Sans Mandaic' (NotoSansMandaic-Regular.ttf) normal normal 400 normal>) = 10.05\n",
      "DEBUG:matplotlib.font_manager:findfont: score(<Font 'Arial Unicode MS' (Arial Unicode.ttf) normal normal 400 normal>) = 10.05\n",
      "DEBUG:matplotlib.font_manager:findfont: score(<Font 'Apple Braille' (Apple Braille Outline 6 Dot.ttf) normal normal 400 normal>) = 10.05\n",
      "DEBUG:matplotlib.font_manager:findfont: score(<Font 'Noto Sans Linear B' (NotoSansLinearB-Regular.ttf) normal normal 400 normal>) = 10.05\n",
      "DEBUG:matplotlib.font_manager:findfont: score(<Font 'Telugu MN' (Telugu MN.ttc) normal normal 400 normal>) = 10.05\n",
      "DEBUG:matplotlib.font_manager:findfont: score(<Font '.Arabic UI Text' (ArabicUIText.ttc) normal normal 400 normal>) = 10.05\n",
      "DEBUG:matplotlib.font_manager:findfont: score(<Font 'Noto Sans Glagolitic' (NotoSansGlagolitic-Regular.ttf) normal normal 400 normal>) = 10.05\n",
      "DEBUG:matplotlib.font_manager:findfont: score(<Font 'Beirut' (Beirut.ttc) normal normal 700 normal>) = 10.335\n",
      "DEBUG:matplotlib.font_manager:findfont: score(<Font 'Galvji' (Galvji.ttc) normal normal 400 normal>) = 10.05\n",
      "DEBUG:matplotlib.font_manager:findfont: score(<Font 'STIXIntegralsSm' (STIXIntSmBol.otf) normal normal 700 normal>) = 10.335\n",
      "DEBUG:matplotlib.font_manager:findfont: score(<Font 'Ayuthaya' (Ayuthaya.ttf) normal normal 400 normal>) = 10.05\n",
      "DEBUG:matplotlib.font_manager:findfont: score(<Font 'Helvetica Neue' (HelveticaNeue.ttc) normal normal 400 normal>) = 10.05\n",
      "DEBUG:matplotlib.font_manager:findfont: score(<Font 'American Typewriter' (AmericanTypewriter.ttc) normal normal 400 normal>) = 10.05\n",
      "DEBUG:matplotlib.font_manager:findfont: score(<Font 'Noto Sans Myanmar' (NotoSansMyanmar.ttc) normal normal 900 normal>) = 10.525\n",
      "DEBUG:matplotlib.font_manager:findfont: score(<Font 'STIXGeneral' (STIXGeneralBol.otf) normal normal 700 normal>) = 10.335\n",
      "DEBUG:matplotlib.font_manager:findfont: score(<Font 'Mishafi Gold' (Mishafi Gold.ttf) normal normal 400 normal>) = 10.05\n",
      "DEBUG:matplotlib.font_manager:findfont: score(<Font 'Verdana' (Verdana Italic.ttf) italic normal 400 normal>) = 4.6863636363636365\n",
      "DEBUG:matplotlib.font_manager:findfont: score(<Font 'Noto Serif Myanmar' (NotoSerifMyanmar.ttc) normal normal 900 normal>) = 10.525\n",
      "DEBUG:matplotlib.font_manager:findfont: score(<Font 'Al Bayan' (AlBayan.ttc) normal normal 400 normal>) = 10.05\n",
      "DEBUG:matplotlib.font_manager:findfont: score(<Font 'Hiragino Sans' (ヒラギノ角ゴシック W3.ttc) normal normal 300 normal>) = 10.145\n",
      "DEBUG:matplotlib.font_manager:findfont: score(<Font 'Kohinoor Gujarati' (KohinoorGujarati.ttc) normal normal 700 normal>) = 10.335\n",
      "DEBUG:matplotlib.font_manager:findfont: score(<Font 'Times New Roman' (Times New Roman.ttf) normal normal 400 normal>) = 10.05\n",
      "DEBUG:matplotlib.font_manager:findfont: score(<Font 'Andale Mono' (Andale Mono.ttf) normal normal 400 normal>) = 10.05\n",
      "DEBUG:matplotlib.font_manager:findfont: score(<Font 'Silom' (Silom.ttf) normal normal 400 normal>) = 10.05\n",
      "DEBUG:matplotlib.font_manager:findfont: score(<Font 'STIXGeneral' (STIXGeneral.otf) normal normal 400 normal>) = 10.05\n"
     ]
    },
    {
     "name": "stderr",
     "output_type": "stream",
     "text": [
      "DEBUG:matplotlib.font_manager:findfont: score(<Font 'Sinhala Sangam MN' (Sinhala Sangam MN.ttc) normal normal 400 normal>) = 10.05\n",
      "DEBUG:matplotlib.font_manager:findfont: score(<Font '.Arabic UI Display' (ArabicUIDisplay.ttc) normal normal 900 normal>) = 10.525\n",
      "DEBUG:matplotlib.font_manager:findfont: score(<Font 'STIXSizeOneSym' (STIXSizOneSymReg.otf) normal normal 400 normal>) = 10.05\n",
      "DEBUG:matplotlib.font_manager:findfont: score(<Font 'Iowan Old Style' (Iowan Old Style.ttc) normal normal 400 normal>) = 10.05\n",
      "DEBUG:matplotlib.font_manager:findfont: score(<Font 'Apple Braille' (Apple Braille.ttf) normal normal 400 normal>) = 10.05\n",
      "DEBUG:matplotlib.font_manager:findfont: score(<Font 'Rockwell' (Rockwell.ttc) normal normal 400 normal>) = 10.05\n",
      "DEBUG:matplotlib.font_manager:findfont: score(<Font 'Noto Sans NKo' (NotoSansNKo-Regular.ttf) normal normal 400 normal>) = 10.05\n",
      "DEBUG:matplotlib.font_manager:findfont: score(<Font 'Noto Sans Old Italic' (NotoSansOldItalic-Regular.ttf) italic normal 400 normal>) = 11.05\n",
      "DEBUG:matplotlib.font_manager:findfont: score(<Font 'DecoType Naskh' (DecoTypeNaskh.ttc) normal normal 400 normal>) = 10.05\n",
      "DEBUG:matplotlib.font_manager:findfont: score(<Font 'Noto Sans Carian' (NotoSansCarian-Regular.ttf) normal normal 400 normal>) = 10.05\n",
      "DEBUG:matplotlib.font_manager:findfont: score(<Font 'Arial' (Arial Bold Italic.ttf) italic normal 700 normal>) = 7.698636363636363\n",
      "DEBUG:matplotlib.font_manager:findfont: score(<Font 'AppleGothic' (AppleGothic.ttf) normal normal 400 normal>) = 10.05\n",
      "DEBUG:matplotlib.font_manager:findfont: score(<Font 'Myanmar MN' (Myanmar MN.ttc) normal normal 400 normal>) = 10.05\n",
      "DEBUG:matplotlib.font_manager:findfont: score(<Font 'STIXIntegralsUpSm' (STIXIntUpSmBol.otf) normal normal 700 normal>) = 10.335\n",
      "DEBUG:matplotlib.font_manager:findfont: score(<Font 'Noto Sans Lydian' (NotoSansLydian-Regular.ttf) normal normal 400 normal>) = 10.05\n",
      "DEBUG:matplotlib.font_manager:findfont: score(<Font '.SF NS Display Condensed' (SFNSDisplayCondensed-Heavy.otf) normal normal 800 condensed>) = 10.629999999999999\n",
      "DEBUG:matplotlib.font_manager:findfont: score(<Font 'STIXNonUnicode' (STIXNonUniBol.otf) normal normal 700 normal>) = 10.335\n",
      "DEBUG:matplotlib.font_manager:findfont: score(<Font 'Geeza Pro' (GeezaPro.ttc) normal normal 400 normal>) = 10.05\n",
      "DEBUG:matplotlib.font_manager:findfont: score(<Font 'Noto Sans Egyptian Hieroglyphs' (NotoSansEgyptianHieroglyphs-Regular.ttf) normal normal 400 normal>) = 10.05\n",
      "DEBUG:matplotlib.font_manager:findfont: score(<Font 'Arial Narrow' (Arial Narrow Italic.ttf) italic normal 400 condensed>) = 11.25\n",
      "DEBUG:matplotlib.font_manager:findfont: score(<Font 'STIXSizeTwoSym' (STIXSizTwoSymBol.otf) normal normal 700 normal>) = 10.335\n",
      "DEBUG:matplotlib.font_manager:findfont: score(<Font 'STIXSizeThreeSym' (STIXSizThreeSymReg.otf) normal normal 400 normal>) = 10.05\n",
      "DEBUG:matplotlib.font_manager:findfont: score(<Font 'Hiragino Sans' (ヒラギノ角ゴシック W0.ttc) normal normal 100 normal>) = 10.335\n",
      "DEBUG:matplotlib.font_manager:findfont: score(<Font 'Gujarati MT' (GujaratiMT.ttc) normal normal 400 normal>) = 10.05\n",
      "DEBUG:matplotlib.font_manager:findfont: score(<Font 'Courier New' (Courier New Bold Italic.ttf) italic normal 700 normal>) = 11.335\n",
      "DEBUG:matplotlib.font_manager:findfont: score(<Font 'DIN Alternate' (DIN Alternate Bold.ttf) normal normal 700 normal>) = 10.335\n",
      "DEBUG:matplotlib.font_manager:findfont: score(<Font 'System Font' (SFNSItalic.ttf) italic normal 400 normal>) = 11.05\n",
      "DEBUG:matplotlib.font_manager:findfont: score(<Font '.Aqua Kana' (AquaKana.ttc) normal normal 300 normal>) = 10.145\n",
      "DEBUG:matplotlib.font_manager:findfont: score(<Font 'Tamil Sangam MN' (Tamil Sangam MN.ttc) normal normal 400 normal>) = 10.05\n",
      "DEBUG:matplotlib.font_manager:findfont: score(<Font 'Noto Sans Sundanese' (NotoSansSundanese-Regular.ttf) normal normal 400 normal>) = 10.05\n",
      "DEBUG:matplotlib.font_manager:findfont: score(<Font 'Hiragino Sans' (ヒラギノ角ゴシック W9.ttc) normal normal 900 normal>) = 10.525\n",
      "DEBUG:matplotlib.font_manager:findfont: score(<Font 'Noto Sans Shavian' (NotoSansShavian-Regular.ttf) normal normal 400 normal>) = 10.05\n",
      "DEBUG:matplotlib.font_manager:findfont: score(<Font 'Noto Sans New Tai Lue' (NotoSansNewTaiLue-Regular.ttf) normal normal 400 normal>) = 10.05\n",
      "DEBUG:matplotlib.font_manager:findfont: score(<Font 'Athelas' (Athelas.ttc) normal normal 400 normal>) = 10.05\n",
      "DEBUG:matplotlib.font_manager:findfont: score(<Font 'Apple Braille' (Apple Braille Pinpoint 8 Dot.ttf) normal normal 400 normal>) = 10.05\n",
      "DEBUG:matplotlib.font_manager:findfont: score(<Font 'Apple Symbols' (Apple Symbols.ttf) normal normal 400 normal>) = 10.05\n",
      "DEBUG:matplotlib.font_manager:findfont: score(<Font '.SF NS Text Condensed' (SFNSTextCondensed-Bold.otf) normal normal 700 condensed>) = 10.535\n",
      "DEBUG:matplotlib.font_manager:findfont: score(<Font 'Mshtakan' (Mshtakan.ttc) normal normal 400 normal>) = 10.05\n",
      "DEBUG:matplotlib.font_manager:findfont: score(<Font 'Marker Felt' (MarkerFelt.ttc) normal normal 400 normal>) = 10.05\n",
      "DEBUG:matplotlib.font_manager:findfont: score(<Font 'KufiStandardGK' (KufiStandardGK.ttc) normal normal 400 normal>) = 10.05\n",
      "DEBUG:matplotlib.font_manager:findfont: score(<Font 'Times New Roman' (Times New Roman Bold.ttf) normal normal 700 normal>) = 10.335\n",
      "DEBUG:matplotlib.font_manager:findfont: score(<Font 'STIXSizeFourSym' (STIXSizFourSymReg.otf) normal normal 400 normal>) = 10.05\n",
      "DEBUG:matplotlib.font_manager:findfont: score(<Font 'STIXNonUnicode' (STIXNonUni.otf) normal normal 400 normal>) = 10.05\n",
      "DEBUG:matplotlib.font_manager:findfont: score(<Font 'Noto Sans Rejang' (NotoSansRejang-Regular.ttf) normal normal 400 normal>) = 10.05\n",
      "DEBUG:matplotlib.font_manager:findfont: score(<Font '.SF Compact Rounded' (SFCompactRounded.ttf) normal normal 400 normal>) = 10.05\n",
      "DEBUG:matplotlib.font_manager:findfont: score(<Font 'Noto Sans Chakma' (NotoSansChakma-Regular.ttf) normal normal 400 normal>) = 10.05\n",
      "DEBUG:matplotlib.font_manager:findfont: score(<Font 'STIXIntegralsD' (STIXIntDReg.otf) normal normal 400 normal>) = 10.05\n",
      "DEBUG:matplotlib.font_manager:findfont: score(<Font 'New Peninim MT' (NewPeninimMT.ttc) normal normal 400 normal>) = 10.05\n",
      "DEBUG:matplotlib.font_manager:findfont: score(<Font 'Arial Narrow' (Arial Narrow Bold.ttf) normal normal 700 condensed>) = 10.535\n",
      "DEBUG:matplotlib.font_manager:findfont: score(<Font 'Noto Sans Avestan' (NotoSansAvestan-Regular.ttf) normal normal 400 normal>) = 10.05\n",
      "DEBUG:matplotlib.font_manager:findfont: score(<Font 'Georgia' (Georgia.ttf) normal normal 400 normal>) = 10.05\n",
      "DEBUG:matplotlib.font_manager:findfont: score(<Font 'Gill Sans' (GillSans.ttc) normal normal 400 normal>) = 10.05\n",
      "DEBUG:matplotlib.font_manager:findfont: score(<Font 'Waseem' (Waseem.ttc) normal normal 400 normal>) = 10.05\n",
      "DEBUG:matplotlib.font_manager:findfont: score(<Font 'Baskerville' (Baskerville.ttc) normal normal 400 normal>) = 10.05\n",
      "DEBUG:matplotlib.font_manager:findfont: score(<Font 'PT Mono' (PTMono.ttc) normal normal 700 normal>) = 10.335\n",
      "DEBUG:matplotlib.font_manager:findfont: score(<Font '.SF NS Text Condensed' (SFNSTextCondensed-Semibold.otf) normal normal 600 condensed>) = 10.44\n",
      "DEBUG:matplotlib.font_manager:findfont: score(<Font 'Songti SC' (Songti.ttc) normal normal 900 normal>) = 10.525\n",
      "DEBUG:matplotlib.font_manager:findfont: score(<Font 'Superclarendon' (SuperClarendon.ttc) normal normal 400 normal>) = 10.05\n",
      "DEBUG:matplotlib.font_manager:findfont: score(<Font 'Noto Sans Old South Arabian' (NotoSansOldSouthArabian-Regular.ttf) normal normal 400 normal>) = 10.05\n",
      "DEBUG:matplotlib.font_manager:findfont: score(<Font 'Noto Sans Phoenician' (NotoSansPhoenician-Regular.ttf) normal normal 400 normal>) = 10.05\n",
      "DEBUG:matplotlib.font_manager:findfont: score(<Font 'Arial Black' (Arial Black.ttf) normal normal 900 normal>) = 10.525\n",
      "DEBUG:matplotlib.font_manager:findfont: score(<Font 'Hiragino Sans' (ヒラギノ角ゴシック W7.ttc) normal normal 700 normal>) = 10.335\n",
      "DEBUG:matplotlib.font_manager:findfont: score(<Font 'Brush Script MT' (Brush Script.ttf) italic normal 400 normal>) = 11.05\n",
      "DEBUG:matplotlib.font_manager:findfont: score(<Font 'Comic Sans MS' (Comic Sans MS.ttf) normal normal 400 normal>) = 10.05\n",
      "DEBUG:matplotlib.font_manager:findfont: score(<Font 'Krungthep' (Krungthep.ttf) normal normal 400 normal>) = 10.05\n"
     ]
    },
    {
     "name": "stderr",
     "output_type": "stream",
     "text": [
      "DEBUG:matplotlib.font_manager:findfont: score(<Font 'Noto Sans Gothic' (NotoSansGothic-Regular.ttf) normal normal 400 normal>) = 10.05\n",
      "DEBUG:matplotlib.font_manager:findfont: score(<Font 'Lucida Grande' (LucidaGrande.ttc) normal normal 500 normal>) = 2.872272727272727\n",
      "DEBUG:matplotlib.font_manager:findfont: score(<Font '.Keyboard' (Keyboard.ttf) normal normal 100 normal>) = 10.335\n",
      "DEBUG:matplotlib.font_manager:findfont: score(<Font '.SF Compact Text' (SFCompactTextItalic.ttf) italic normal 400 normal>) = 11.05\n",
      "DEBUG:matplotlib.font_manager:findfont: score(<Font 'Noto Sans Kaithi' (NotoSansKaithi-Regular.ttf) normal normal 400 normal>) = 10.05\n",
      "DEBUG:matplotlib.font_manager:findfont: score(<Font 'Mukta Mahee' (MuktaMahee.ttc) normal normal 400 normal>) = 10.05\n",
      "DEBUG:matplotlib.font_manager:findfont: score(<Font 'STIXIntegralsUpSm' (STIXIntUpSmReg.otf) normal normal 400 normal>) = 10.05\n",
      "DEBUG:matplotlib.font_manager:findfont: score(<Font 'Hiragino Sans' (ヒラギノ角ゴシック W6.ttc) normal normal 600 normal>) = 10.24\n",
      "DEBUG:matplotlib.font_manager:findfont: score(<Font 'Noto Sans Oriya' (NotoSansOriya.ttc) normal normal 400 normal>) = 10.05\n",
      "DEBUG:matplotlib.font_manager:findfont: score(<Font 'PT Sans' (PTSans.ttc) normal normal 400 normal>) = 10.05\n",
      "DEBUG:matplotlib.font_manager:findfont: score(<Font '.SF NS Display Condensed' (SFNSDisplayCondensed-Thin.otf) normal normal 400 condensed>) = 10.25\n",
      "DEBUG:matplotlib.font_manager:findfont: score(<Font 'Georgia' (Georgia Italic.ttf) italic normal 400 normal>) = 11.05\n",
      "DEBUG:matplotlib.font_manager:findfont: score(<Font '.SF NS Text Condensed' (SFNSTextCondensed-Heavy.otf) normal normal 800 condensed>) = 10.629999999999999\n",
      "DEBUG:matplotlib.font_manager:findfont: score(<Font 'Impact' (Impact.ttf) normal normal 400 normal>) = 10.05\n",
      "DEBUG:matplotlib.font_manager:findfont: score(<Font 'Nadeem' (Nadeem.ttc) normal normal 400 normal>) = 10.05\n",
      "DEBUG:matplotlib.font_manager:findfont: score(<Font 'Al Nile' (Al Nile.ttc) normal normal 400 normal>) = 10.05\n",
      "DEBUG:matplotlib.font_manager:findfont: score(<Font 'STIXNonUnicode' (STIXNonUniIta.otf) italic normal 400 normal>) = 11.05\n",
      "DEBUG:matplotlib.font_manager:findfont: score(<Font '.Helvetica Neue DeskInterface' (HelveticaNeueDeskInterface.ttc) normal normal 400 normal>) = 10.05\n",
      "DEBUG:matplotlib.font_manager:findfont: score(<Font 'Chalkboard SE' (ChalkboardSE.ttc) normal normal 400 normal>) = 10.05\n",
      "DEBUG:matplotlib.font_manager:findfont: score(<Font 'Bodoni Ornaments' (Bodoni Ornaments.ttf) normal normal 400 normal>) = 10.05\n",
      "DEBUG:matplotlib.font_manager:findfont: score(<Font 'AppleMyungjo' (AppleMyungjo.ttf) normal normal 400 normal>) = 10.05\n",
      "DEBUG:matplotlib.font_manager:findfont: score(<Font 'Noto Sans Tai Tham' (NotoSansTaiTham-Regular.ttf) normal normal 400 normal>) = 10.05\n",
      "DEBUG:matplotlib.font_manager:findfont: score(<Font 'Zapf Dingbats' (ZapfDingbats.ttf) normal normal 400 normal>) = 10.05\n",
      "DEBUG:matplotlib.font_manager:findfont: score(<Font 'Oriya MN' (Oriya MN.ttc) normal normal 400 normal>) = 10.05\n",
      "DEBUG:matplotlib.font_manager:findfont: score(<Font 'STIXVariants' (STIXVarBol.otf) normal normal 700 normal>) = 10.335\n",
      "DEBUG:matplotlib.font_manager:findfont: score(<Font 'InaiMathi' (InaiMathi-MN.ttc) normal normal 400 normal>) = 10.05\n",
      "DEBUG:matplotlib.font_manager:findfont: score(<Font 'Devanagari MT' (DevanagariMT.ttc) normal normal 400 normal>) = 10.05\n",
      "DEBUG:matplotlib.font_manager:findfont: score(<Font 'Noto Sans Saurashtra' (NotoSansSaurashtra-Regular.ttf) normal normal 400 normal>) = 10.05\n",
      "DEBUG:matplotlib.font_manager:findfont: score(<Font 'Menlo' (Menlo.ttc) normal normal 400 normal>) = 10.05\n",
      "DEBUG:matplotlib.font_manager:findfont: score(<Font 'Noto Sans Samaritan' (NotoSansSamaritan-Regular.ttf) normal normal 400 normal>) = 10.05\n",
      "DEBUG:matplotlib.font_manager:findfont: score(<Font 'Noto Sans Tai Viet' (NotoSansTaiViet-Regular.ttf) normal normal 400 normal>) = 10.05\n",
      "DEBUG:matplotlib.font_manager:findfont: score(<Font '.SF NS Text Condensed' (SFNSTextCondensed-Medium.otf) normal normal 500 condensed>) = 10.344999999999999\n",
      "DEBUG:matplotlib.font_manager:findfont: score(<Font 'Damascus' (Damascus.ttc) normal normal 400 normal>) = 10.05\n",
      "DEBUG:matplotlib.font_manager:findfont: score(<Font '.SF NS Text Condensed' (SFNSTextCondensed-Light.otf) normal normal 300 condensed>) = 10.344999999999999\n",
      "DEBUG:matplotlib.font_manager:findfont: score(<Font 'STIXSizeThreeSym' (STIXSizThreeSymBol.otf) normal normal 700 normal>) = 10.335\n",
      "DEBUG:matplotlib.font_manager:findfont: score(<Font 'Noto Sans Ugaritic' (NotoSansUgaritic-Regular.ttf) normal normal 400 normal>) = 10.05\n",
      "DEBUG:matplotlib.font_manager:findfont: score(<Font 'STIXSizeFourSym' (STIXSizFourSymBol.otf) normal normal 700 normal>) = 10.335\n",
      "DEBUG:matplotlib.font_manager:findfont: score(<Font 'Arial Narrow' (Arial Narrow Bold Italic.ttf) italic normal 700 condensed>) = 11.535\n",
      "DEBUG:matplotlib.font_manager:findfont: score(<Font 'Verdana' (Verdana Bold Italic.ttf) italic normal 700 normal>) = 4.971363636363637\n",
      "DEBUG:matplotlib.font_manager:findfont: score(<Font 'Noto Sans Yi' (NotoSansYi-Regular.ttf) normal normal 400 normal>) = 10.05\n",
      "DEBUG:matplotlib.font_manager:findfont: score(<Font 'Times New Roman' (Times New Roman Italic.ttf) italic normal 400 normal>) = 11.05\n",
      "DEBUG:matplotlib.font_manager:findfont: score(<Font 'STIXGeneral' (STIXGeneralItalic.otf) italic normal 400 normal>) = 11.05\n",
      "DEBUG:matplotlib.font_manager:findfont: score(<Font 'Noteworthy' (Noteworthy.ttc) normal normal 300 normal>) = 10.145\n",
      "DEBUG:matplotlib.font_manager:findfont: score(<Font 'System Font' (SFNS.ttf) normal normal 400 normal>) = 10.05\n",
      "DEBUG:matplotlib.font_manager:findfont: score(<Font 'Papyrus' (Papyrus.ttc) normal normal 400 condensed>) = 10.25\n",
      "DEBUG:matplotlib.font_manager:findfont: score(<Font 'STIXIntegralsSm' (STIXIntSmReg.otf) normal normal 400 normal>) = 10.05\n",
      "DEBUG:matplotlib.font_manager:findfont: score(<Font 'Noto Sans Ol Chiki' (NotoSansOlChiki-Regular.ttf) normal normal 400 normal>) = 10.05\n",
      "DEBUG:matplotlib.font_manager:findfont: score(<Font 'Heiti TC' (STHeiti Light.ttc) normal normal 300 normal>) = 10.145\n",
      "DEBUG:matplotlib.font_manager:findfont: score(<Font '.SF NS Display Condensed' (SFNSDisplayCondensed-Medium.otf) normal normal 600 condensed>) = 10.44\n",
      "DEBUG:matplotlib.font_manager:findfont: score(<Font 'Noto Sans Mongolian' (NotoSansMongolian-Regular.ttf) normal normal 400 normal>) = 10.05\n",
      "DEBUG:matplotlib.font_manager:findfont: score(<Font 'Snell Roundhand' (SnellRoundhand.ttc) normal normal 500 normal>) = 10.145\n",
      "DEBUG:matplotlib.font_manager:findfont: score(<Font 'STIXIntegralsUpD' (STIXIntUpDReg.otf) normal normal 400 normal>) = 10.05\n",
      "DEBUG:matplotlib.font_manager:findfont: score(<Font 'Myanmar Sangam MN' (Myanmar Sangam MN.ttc) normal normal 400 normal>) = 10.05\n",
      "DEBUG:matplotlib.font_manager:findfont: score(<Font 'Telugu Sangam MN' (Telugu Sangam MN.ttc) normal normal 400 normal>) = 10.05\n",
      "DEBUG:matplotlib.font_manager:findfont: score(<Font 'Noto Sans Runic' (NotoSansRunic-Regular.ttf) normal normal 400 normal>) = 10.05\n",
      "DEBUG:matplotlib.font_manager:findfont: score(<Font 'Oriya Sangam MN' (Oriya Sangam MN.ttc) normal normal 400 normal>) = 10.05\n",
      "DEBUG:matplotlib.font_manager:findfont: score(<Font 'Noto Nastaliq Urdu' (NotoNastaliq.ttc) normal normal 400 normal>) = 10.05\n",
      "DEBUG:matplotlib.font_manager:findfont: score(<Font 'Sathu' (Sathu.ttf) normal normal 400 normal>) = 10.05\n",
      "DEBUG:matplotlib.font_manager:findfont: score(<Font 'Noto Sans Tagalog' (NotoSansTagalog-Regular.ttf) normal normal 400 normal>) = 10.05\n",
      "DEBUG:matplotlib.font_manager:findfont: score(<Font 'Noto Sans Kharoshthi' (NotoSansKharoshthi-Regular.ttf) normal normal 400 normal>) = 10.05\n",
      "DEBUG:matplotlib.font_manager:findfont: score(<Font '.SF NS Display Condensed' (SFNSDisplayCondensed-Ultralight.otf) normal normal 400 condensed>) = 10.25\n",
      "DEBUG:matplotlib.font_manager:findfont: score(<Font 'PT Serif Caption' (PTSerifCaption.ttc) normal normal 400 normal>) = 10.05\n",
      "DEBUG:matplotlib.font_manager:findfont: score(<Font 'Arial Rounded MT Bold' (Arial Rounded Bold.ttf) normal normal 400 normal>) = 10.05\n",
      "DEBUG:matplotlib.font_manager:findfont: score(<Font 'Noto Sans Javanese' (NotoSansJavanese-Regular.otf) normal normal 400 normal>) = 10.05\n"
     ]
    },
    {
     "name": "stderr",
     "output_type": "stream",
     "text": [
      "DEBUG:matplotlib.font_manager:findfont: score(<Font 'STIXVariants' (STIXVar.otf) normal normal 400 normal>) = 10.05\n",
      "DEBUG:matplotlib.font_manager:findfont: score(<Font 'Malayalam Sangam MN' (Malayalam Sangam MN.ttc) normal normal 400 normal>) = 10.05\n",
      "DEBUG:matplotlib.font_manager:findfont: score(<Font '.SF Compact Display' (SFCompactDisplay.ttf) normal normal 400 normal>) = 10.05\n",
      "DEBUG:matplotlib.font_manager:findfont: score(<Font 'Avenir' (Avenir.ttc) normal normal 400 normal>) = 10.05\n",
      "DEBUG:matplotlib.font_manager:findfont: score(<Font 'Hiragino Mincho ProN' (ヒラギノ明朝 ProN.ttc) normal normal 300 normal>) = 10.145\n",
      "DEBUG:matplotlib.font_manager:findfont: score(<Font 'Hiragino Sans' (ヒラギノ角ゴシック W5.ttc) normal normal 500 normal>) = 10.145\n",
      "DEBUG:matplotlib.font_manager:findfont: score(<Font 'Chalkduster' (Chalkduster.ttf) normal normal 400 normal>) = 10.05\n",
      "DEBUG:matplotlib.font_manager:findfont: score(<Font 'Khmer Sangam MN' (Khmer Sangam MN.ttf) normal normal 400 normal>) = 10.05\n",
      "DEBUG:matplotlib.font_manager:findfont: score(<Font '.SF NS Rounded' (SFNSRounded.ttf) normal normal 400 normal>) = 10.05\n",
      "DEBUG:matplotlib.font_manager:findfont: score(<Font 'Arial' (Arial.ttf) normal normal 400 normal>) = 6.413636363636363\n",
      "DEBUG:matplotlib.font_manager:findfont: score(<Font 'Copperplate' (Copperplate.ttc) normal normal 400 normal>) = 10.05\n",
      "DEBUG:matplotlib.font_manager:findfont: score(<Font 'Arial' (Arial Italic.ttf) italic normal 400 normal>) = 7.413636363636363\n",
      "DEBUG:matplotlib.font_manager:findfont: score(<Font 'Apple SD Gothic Neo' (AppleSDGothicNeo.ttc) normal normal 400 normal>) = 10.05\n",
      "DEBUG:matplotlib.font_manager:findfont: score(<Font 'Corsiva Hebrew' (Corsiva.ttc) normal normal 400 normal>) = 10.05\n",
      "DEBUG:matplotlib.font_manager:findfont: score(<Font 'Noto Sans Syloti Nagri' (NotoSansSylotiNagri-Regular.ttf) normal normal 400 normal>) = 10.05\n",
      "DEBUG:matplotlib.font_manager:findfont: score(<Font 'STIXIntegralsUpD' (STIXIntUpDBol.otf) normal normal 700 normal>) = 10.335\n",
      "DEBUG:matplotlib.font_manager:findfont: score(<Font 'Khmer MN' (Khmer MN.ttc) normal normal 400 normal>) = 10.05\n",
      "DEBUG:matplotlib.font_manager:findfont: score(<Font 'Webdings' (Webdings.ttf) normal normal 400 normal>) = 10.05\n",
      "DEBUG:matplotlib.font_manager:findfont: score(<Font 'Bodoni 72 Smallcaps' (Bodoni 72 Smallcaps Book.ttf) normal normal 400 normal>) = 10.05\n",
      "DEBUG:matplotlib.font_manager:findfont: score(<Font 'Noto Sans Old Turkic' (NotoSansOldTurkic-Regular.ttf) normal normal 400 normal>) = 10.05\n",
      "DEBUG:matplotlib.font_manager:findfont: score(<Font 'Baghdad' (Baghdad.ttc) normal normal 400 normal>) = 10.05\n",
      "DEBUG:matplotlib.font_manager:findfont: score(<Font 'Kohinoor Bangla' (KohinoorBangla.ttc) normal normal 400 normal>) = 10.05\n",
      "DEBUG:matplotlib.font_manager:findfont: score(<Font '.SF NS Display Condensed' (SFNSDisplayCondensed-Semibold.otf) normal normal 700 condensed>) = 10.535\n",
      "DEBUG:matplotlib.font_manager:findfont: score(<Font 'Bangla Sangam MN' (Bangla Sangam MN.ttc) normal normal 400 normal>) = 10.05\n",
      "DEBUG:matplotlib.font_manager:findfont: score(<Font 'Arial Narrow' (Arial Narrow.ttf) normal normal 400 condensed>) = 10.25\n",
      "DEBUG:matplotlib.font_manager:findfont: score(<Font 'Georgia' (Georgia Bold.ttf) normal normal 700 normal>) = 10.335\n",
      "DEBUG:matplotlib.font_manager:findfont: score(<Font 'Big Caslon' (BigCaslon.ttf) normal normal 500 normal>) = 10.145\n",
      "DEBUG:matplotlib.font_manager:findfont: score(<Font 'Noto Sans Buginese' (NotoSansBuginese-Regular.ttf) normal normal 400 normal>) = 10.05\n",
      "DEBUG:matplotlib.font_manager:findfont: score(<Font 'Tahoma' (Tahoma Bold.ttf) normal normal 700 normal>) = 10.335\n",
      "DEBUG:matplotlib.font_manager:findfont: score(<Font 'SignPainter' (SignPainter.ttc) normal normal 400 normal>) = 10.05\n",
      "DEBUG:matplotlib.font_manager:findfont: score(<Font 'Wingdings 3' (Wingdings 3.ttf) normal normal 400 normal>) = 10.05\n",
      "DEBUG:matplotlib.font_manager:findfont: score(<Font 'Avenir Next Condensed' (Avenir Next Condensed.ttc) normal normal 700 condensed>) = 10.535\n",
      "DEBUG:matplotlib.font_manager:findfont: score(<Font 'Noto Sans Tifinagh' (NotoSansTifinagh-Regular.ttf) normal normal 400 normal>) = 10.05\n",
      "DEBUG:matplotlib.font_manager:findfont: score(<Font 'Savoye LET' (Savoye LET.ttc) normal normal 400 normal>) = 10.05\n",
      "DEBUG:matplotlib.font_manager:findfont: score(<Font 'Avenir Next' (Avenir Next.ttc) normal normal 700 normal>) = 10.335\n",
      "DEBUG:matplotlib.font_manager:findfont: score(<Font 'Arial Hebrew' (ArialHB.ttc) normal normal 400 normal>) = 10.05\n",
      "DEBUG:matplotlib.font_manager:findfont: score(<Font 'Lao Sangam MN' (Lao Sangam MN.ttf) normal normal 400 normal>) = 10.05\n",
      "DEBUG:matplotlib.font_manager:findfont: score(<Font 'Hiragino Sans' (ヒラギノ角ゴシック W8.ttc) normal normal 800 normal>) = 10.43\n",
      "DEBUG:matplotlib.font_manager:findfont: score(<Font 'Gurmukhi MT' (Gurmukhi.ttf) normal normal 500 normal>) = 10.145\n",
      "DEBUG:matplotlib.font_manager:findfont: score(<Font 'Plantagenet Cherokee' (PlantagenetCherokee.ttf) normal normal 400 normal>) = 10.05\n",
      "DEBUG:matplotlib.font_manager:findfont: score(<Font 'Lao MN' (Lao MN.ttc) normal normal 400 normal>) = 10.05\n",
      "DEBUG:matplotlib.font_manager:findfont: score(<Font 'PT Serif' (PTSerif.ttc) normal normal 400 normal>) = 10.05\n",
      "DEBUG:matplotlib.font_manager:findfont: score(<Font 'Noto Sans Lepcha' (NotoSansLepcha-Regular.ttf) normal normal 400 normal>) = 10.05\n",
      "DEBUG:matplotlib.font_manager:findfont: score(<Font 'Times New Roman' (Times New Roman Bold Italic.ttf) italic normal 700 normal>) = 11.335\n",
      "DEBUG:matplotlib.font_manager:findfont: score(<Font 'Thonburi' (Thonburi.ttc) normal normal 400 normal>) = 10.05\n",
      "DEBUG:matplotlib.font_manager:findfont: score(<Font 'Verdana' (Verdana Bold.ttf) normal normal 700 normal>) = 3.9713636363636367\n",
      "DEBUG:matplotlib.font_manager:findfont: score(<Font 'Noto Sans Meetei Mayek' (NotoSansMeeteiMayek-Regular.ttf) normal normal 400 normal>) = 10.05\n",
      "DEBUG:matplotlib.font_manager:findfont: score(<Font 'Trebuchet MS' (Trebuchet MS Italic.ttf) italic normal 400 normal>) = 11.05\n",
      "DEBUG:matplotlib.font_manager:findfont: score(<Font 'Kefa' (Kefa.ttc) normal normal 400 normal>) = 10.05\n",
      "DEBUG:matplotlib.font_manager:findfont: score(<Font '.SF NS Display Condensed' (SFNSDisplayCondensed-Black.otf) normal normal 900 condensed>) = 10.725\n",
      "DEBUG:matplotlib.font_manager:findfont: score(<Font 'Georgia' (Georgia Bold Italic.ttf) italic normal 700 normal>) = 11.335\n",
      "DEBUG:matplotlib.font_manager:findfont: score(<Font '.New York' (NewYorkItalic.ttf) italic normal 425 normal>) = 11.07375\n",
      "DEBUG:matplotlib.font_manager:findfont: score(<Font 'Kokonor' (Kokonor.ttf) normal normal 400 normal>) = 10.05\n",
      "DEBUG:matplotlib.font_manager:findfont: score(<Font 'Bangla MN' (Bangla MN.ttc) normal normal 400 normal>) = 10.05\n",
      "DEBUG:matplotlib.font_manager:findfont: score(<Font 'Noto Sans Vai' (NotoSansVai-Regular.ttf) normal normal 400 normal>) = 10.05\n",
      "DEBUG:matplotlib.font_manager:findfont: score(<Font 'STIXIntegralsUp' (STIXIntUpReg.otf) normal normal 400 normal>) = 10.05\n",
      "DEBUG:matplotlib.font_manager:findfont: score(<Font 'Symbol' (Symbol.ttf) normal normal 400 normal>) = 10.05\n",
      "DEBUG:matplotlib.font_manager:findfont: score(<Font 'Charter' (Charter.ttc) normal normal 400 normal>) = 10.05\n",
      "DEBUG:matplotlib.font_manager:findfont: score(<Font '.SF NS Display Condensed' (SFNSDisplayCondensed-Light.otf) normal normal 500 condensed>) = 10.344999999999999\n",
      "DEBUG:matplotlib.font_manager:findfont: score(<Font 'Comic Sans MS' (Comic Sans MS Bold.ttf) normal normal 700 normal>) = 10.335\n",
      "DEBUG:matplotlib.font_manager:findfont: score(<Font 'ITF Devanagari' (ITFDevanagari.ttc) normal normal 400 normal>) = 10.05\n",
      "DEBUG:matplotlib.font_manager:findfont: score(<Font 'Noto Sans PhagsPa' (NotoSansPhagsPa-Regular.ttf) normal normal 400 normal>) = 10.05\n",
      "DEBUG:matplotlib.font_manager:findfont: score(<Font 'Noto Sans Cuneiform' (NotoSansCuneiform-Regular.ttf) normal normal 400 normal>) = 10.05\n",
      "DEBUG:matplotlib.font_manager:findfont: score(<Font 'Apple Braille' (Apple Braille Pinpoint 6 Dot.ttf) normal normal 400 normal>) = 10.05\n",
      "DEBUG:matplotlib.font_manager:findfont: score(<Font 'Palatino' (Palatino.ttc) normal normal 400 normal>) = 10.05\n",
      "DEBUG:matplotlib.font_manager:findfont: score(<Font 'STIXNonUnicode' (STIXNonUniBolIta.otf) italic normal 700 normal>) = 11.335\n"
     ]
    },
    {
     "name": "stderr",
     "output_type": "stream",
     "text": [
      "DEBUG:matplotlib.font_manager:findfont: score(<Font '.SF NS Mono' (SFNSMono.ttf) normal normal 300 normal>) = 10.145\n",
      "DEBUG:matplotlib.font_manager:findfont: score(<Font 'Tamil MN' (Tamil MN.ttc) normal normal 400 normal>) = 10.05\n",
      "DEBUG:matplotlib.font_manager:findfont: score(<Font 'Skia' (Skia.ttf) normal normal 5 normal>) = 10.42525\n",
      "DEBUG:matplotlib.font_manager:findfont: score(<Font 'Diwan Thuluth' (Diwan Thuluth.ttf) normal normal 400 normal>) = 10.05\n",
      "DEBUG:matplotlib.font_manager:findfont: score(<Font 'Bradley Hand' (Bradley Hand Bold.ttf) normal normal 700 normal>) = 10.335\n",
      "DEBUG:matplotlib.font_manager:findfont: score(<Font 'Courier New' (Courier New Bold.ttf) normal normal 700 normal>) = 10.335\n",
      "DEBUG:matplotlib.font_manager:findfont: score(<Font 'Shree Devanagari 714' (Shree714.ttc) normal normal 400 normal>) = 10.05\n",
      "DEBUG:matplotlib.font_manager:findfont: score(<Font 'Hiragino Maru Gothic Pro' (ヒラギノ丸ゴ ProN W4.ttc) normal normal 400 normal>) = 10.05\n",
      "DEBUG:matplotlib.font_manager:findfont: score(<Font 'Sukhumvit Set' (SukhumvitSet.ttc) normal normal 250 normal>) = 10.1925\n",
      "DEBUG:matplotlib.font_manager:findfont: score(<Font 'Muna' (Muna.ttc) normal normal 400 normal>) = 10.05\n",
      "DEBUG:matplotlib.font_manager:findfont: score(<Font 'Hiragino Sans' (ヒラギノ角ゴシック W2.ttc) normal normal 250 normal>) = 10.1925\n",
      "DEBUG:matplotlib.font_manager:findfont: score(<Font 'Kannada MN' (Kannada MN.ttc) normal normal 400 normal>) = 10.05\n",
      "DEBUG:matplotlib.font_manager:findfont: score(<Font 'Kailasa' (Kailasa.ttc) normal normal 400 normal>) = 10.05\n",
      "DEBUG:matplotlib.font_manager:findfont: score(<Font 'Noto Sans Osmanya' (NotoSansOsmanya-Regular.ttf) normal normal 400 normal>) = 10.05\n",
      "DEBUG:matplotlib.font_manager:findfont: score(<Font 'Trebuchet MS' (Trebuchet MS Bold Italic.ttf) italic normal 700 normal>) = 11.335\n",
      "DEBUG:matplotlib.font_manager:findfont: score(<Font 'Noto Sans Kannada' (NotoSansKannada.ttc) normal normal 900 normal>) = 10.525\n",
      "DEBUG:matplotlib.font_manager:findfont: score(<Font 'Hiragino Sans' (ヒラギノ角ゴシック W1.ttc) normal normal 200 normal>) = 10.24\n",
      "DEBUG:matplotlib.font_manager:findfont: score(<Font 'Luminari' (Luminari.ttf) normal normal 400 normal>) = 10.05\n",
      "DEBUG:matplotlib.font_manager:findfont: score(<Font 'Malayalam MN' (Malayalam MN.ttc) normal normal 400 normal>) = 10.05\n",
      "DEBUG:matplotlib.font_manager:findfont: score(<Font 'Tahoma' (Tahoma.ttf) normal normal 400 normal>) = 10.05\n",
      "DEBUG:matplotlib.font_manager:findfont: score(<Font 'Kohinoor Devanagari' (Kohinoor.ttc) normal normal 400 normal>) = 10.05\n",
      "DEBUG:matplotlib.font_manager:findfont: score(<Font '.SF NS Text Condensed' (SFNSTextCondensed-Regular.otf) normal normal 400 condensed>) = 10.25\n",
      "DEBUG:matplotlib.font_manager:findfont: score(<Font 'Al Tarikh' (Al Tarikh.ttc) normal normal 400 normal>) = 10.05\n",
      "DEBUG:matplotlib.font_manager:findfont: score(<Font 'Apple Chancery' (Apple Chancery.ttf) normal normal 0 normal>) = 10.43\n",
      "DEBUG:matplotlib.font_manager:findfont: score(<Font 'Noto Sans Tagbanwa' (NotoSansTagbanwa-Regular.ttf) normal normal 400 normal>) = 10.05\n",
      "DEBUG:matplotlib.font_manager:findfont: score(<Font 'Noto Sans Lisu' (NotoSansLisu-Regular.ttf) normal normal 400 normal>) = 10.05\n",
      "DEBUG:matplotlib.font_manager:findfont: score(<Font 'Didot' (Didot.ttc) normal normal 400 normal>) = 10.05\n",
      "DEBUG:matplotlib.font_manager:findfont: score(<Font 'Cochin' (Cochin.ttc) normal normal 500 normal>) = 10.145\n",
      "DEBUG:matplotlib.font_manager:findfont: score(<Font 'Noto Sans Old Persian' (NotoSansOldPersian-Regular.ttf) normal normal 400 normal>) = 10.05\n",
      "DEBUG:matplotlib.font_manager:findfont: score(<Font 'Mishafi' (Mishafi.ttf) normal normal 400 normal>) = 10.05\n",
      "DEBUG:matplotlib.font_manager:findfont: score(<Font 'Microsoft Sans Serif' (Microsoft Sans Serif.ttf) normal normal 400 normal>) = 10.05\n",
      "DEBUG:matplotlib.font_manager:findfont: score(<Font 'Gujarati Sangam MN' (Gujarati Sangam MN.ttc) normal normal 400 normal>) = 10.05\n",
      "DEBUG:matplotlib.font_manager:findfont: score(<Font 'Noto Sans Kayah Li' (NotoSansKayahLi-Regular.ttf) normal normal 400 normal>) = 10.05\n",
      "DEBUG:matplotlib.font_manager:findfont: score(<Font 'Noto Sans Syriac' (NotoSansSyriac-Regular.ttf) normal normal 400 normal>) = 10.05\n",
      "DEBUG:matplotlib.font_manager:findfont: score(<Font 'STIXGeneral' (STIXGeneralBolIta.otf) italic normal 700 normal>) = 11.335\n",
      "DEBUG:matplotlib.font_manager:findfont: score(<Font 'Sinhala MN' (Sinhala MN.ttc) normal normal 400 normal>) = 10.05\n",
      "DEBUG:matplotlib.font_manager:findfont: score(<Font 'Kannada Sangam MN' (Kannada Sangam MN.ttc) normal normal 400 normal>) = 10.05\n",
      "DEBUG:matplotlib.font_manager:findfont: score(<Font 'Wingdings' (Wingdings.ttf) normal normal 400 normal>) = 10.05\n",
      "DEBUG:matplotlib.font_manager:findfont: score(<Font 'Zapfino' (Zapfino.ttf) normal normal 400 normal>) = 10.05\n",
      "DEBUG:matplotlib.font_manager:findfont: score(<Font 'Noto Sans Coptic' (NotoSansCoptic-Regular.ttf) normal normal 400 normal>) = 10.05\n",
      "DEBUG:matplotlib.font_manager:findfont: score(<Font 'Courier New' (Courier New Italic.ttf) italic normal 400 normal>) = 11.05\n",
      "DEBUG:matplotlib.font_manager:findfont: score(<Font 'Trebuchet MS' (Trebuchet MS.ttf) normal normal 400 normal>) = 10.05\n",
      "DEBUG:matplotlib.font_manager:findfont: score(<Font 'Noto Sans Cypriot' (NotoSansCypriot-Regular.ttf) normal normal 400 normal>) = 10.05\n",
      "DEBUG:matplotlib.font_manager:findfont: score(<Font 'Courier New' (Courier New.ttf) normal normal 400 normal>) = 10.05\n",
      "DEBUG:matplotlib.font_manager:findfont: score(<Font 'Gurmukhi Sangam MN' (Gurmukhi Sangam MN.ttc) normal normal 400 normal>) = 10.05\n",
      "DEBUG:matplotlib.font_manager:findfont: score(<Font 'Noto Sans Bamum' (NotoSansBamum-Regular.ttf) normal normal 400 normal>) = 10.05\n",
      "DEBUG:matplotlib.font_manager:findfont: score(<Font 'Noto Sans Imperial Aramaic' (NotoSansImperialAramaic-Regular.ttf) normal normal 400 normal>) = 10.05\n",
      "DEBUG:matplotlib.font_manager:findfont: score(<Font 'Hoefler Text' (Hoefler Text Ornaments.ttf) normal normal 400 normal>) = 10.05\n",
      "DEBUG:matplotlib.font_manager:findfont: score(<Font 'Futura' (Futura.ttc) normal normal 500 normal>) = 10.145\n",
      "DEBUG:matplotlib.font_manager:findfont: score(<Font 'Noto Sans Inscriptional Parthian' (NotoSansInscriptionalParthian-Regular.ttf) normal normal 400 normal>) = 10.05\n",
      "DEBUG:matplotlib.font_manager:findfont: score(<Font 'Noto Sans Cham' (NotoSansCham-Regular.ttf) normal normal 400 normal>) = 10.05\n",
      "DEBUG:matplotlib.font_manager:findfont: score(<Font 'Kohinoor Telugu' (KohinoorTelugu.ttc) normal normal 400 normal>) = 10.05\n",
      "DEBUG:matplotlib.font_manager:findfont: score(<Font 'Noto Sans Buhid' (NotoSansBuhid-Regular.ttf) normal normal 400 normal>) = 10.05\n",
      "DEBUG:matplotlib.font_manager:findfont: score(<Font '.SF NS Mono' (SFNSMonoItalic.ttf) italic normal 300 normal>) = 11.145\n",
      "DEBUG:matplotlib.font_manager:findfont: score(<Font 'STIXSizeOneSym' (STIXSizOneSymBol.otf) normal normal 700 normal>) = 10.335\n",
      "DEBUG:matplotlib.font_manager:findfont: score(<Font 'Verdana' (Verdana.ttf) normal normal 400 normal>) = 3.6863636363636365\n",
      "DEBUG:matplotlib.font_manager:findfont: score(<Font 'Noto Sans Batak' (NotoSansBatak-Regular.ttf) normal normal 400 normal>) = 10.05\n",
      "DEBUG:matplotlib.font_manager:findfont: score(<Font 'Helvetica' (Helvetica.ttc) normal normal 400 normal>) = 7.322727272727273\n",
      "DEBUG:matplotlib.font_manager:findfont: score(<Font 'STIXSizeFiveSym' (STIXSizFiveSymReg.otf) normal normal 400 normal>) = 10.05\n",
      "DEBUG:matplotlib.font_manager:findfont: score(<Font 'Trebuchet MS' (Trebuchet MS Bold.ttf) normal normal 700 normal>) = 10.335\n",
      "DEBUG:matplotlib.font_manager:findfont: score(<Font 'Noto Sans Hanunoo' (NotoSansHanunoo-Regular.ttf) normal normal 400 normal>) = 10.05\n",
      "DEBUG:matplotlib.font_manager:findfont: score(<Font 'Times' (Times.ttc) normal normal 400 normal>) = 10.05\n",
      "DEBUG:matplotlib.font_manager:findfont: score(<Font 'Farisi' (Farisi.ttf) normal normal 400 normal>) = 10.05\n",
      "DEBUG:matplotlib.font_manager:findfont: score(<Font 'Apple Braille' (Apple Braille Outline 8 Dot.ttf) normal normal 400 normal>) = 10.05\n",
      "DEBUG:matplotlib.font_manager:findfont: score(<Font 'Noto Sans Tai Le' (NotoSansTaiLe-Regular.ttf) normal normal 400 normal>) = 10.05\n",
      "DEBUG:matplotlib.font_manager:findfont: score(<Font 'Heiti TC' (STHeiti Medium.ttc) normal normal 400 normal>) = 10.05\n"
     ]
    },
    {
     "name": "stderr",
     "output_type": "stream",
     "text": [
      "DEBUG:matplotlib.font_manager:findfont: score(<Font 'Herculanum' (Herculanum.ttf) normal normal 400 normal>) = 10.05\n",
      "DEBUG:matplotlib.font_manager:findfont: score(<Font 'Sana' (Sana.ttc) normal normal 400 normal>) = 10.05\n",
      "DEBUG:matplotlib.font_manager:findfont: score(<Font 'Noto Sans Limbu' (NotoSansLimbu-Regular.ttf) normal normal 400 normal>) = 10.05\n",
      "DEBUG:matplotlib.font_manager:findfont: score(<Font 'Noto Sans Armenian' (NotoSansArmenian.ttc) normal normal 900 normal>) = 10.525\n",
      "DEBUG:matplotlib.font_manager:findfont: score(<Font '.SF NS Display Condensed' (SFNSDisplayCondensed-Regular.otf) normal normal 600 condensed>) = 10.44\n",
      "DEBUG:matplotlib.font_manager:findfont: score(<Font 'Arial Unicode MS' (Arial Unicode.ttf) normal normal 400 normal>) = 10.05\n",
      "DEBUG:matplotlib.font_manager:findfont: score(<Font 'STIXSizeTwoSym' (STIXSizTwoSymReg.otf) normal normal 400 normal>) = 10.05\n",
      "DEBUG:matplotlib.font_manager:findfont: score(<Font 'Bodoni 72 Oldstyle' (Bodoni 72 OS.ttc) normal normal 400 normal>) = 10.05\n",
      "DEBUG:matplotlib.font_manager:findfont: score(<Font 'DIN Condensed' (DIN Condensed Bold.ttf) normal normal 700 condensed>) = 10.535\n",
      "DEBUG:matplotlib.font_manager:findfont: score(<Font 'Farah' (Farah.ttc) normal normal 400 normal>) = 10.05\n",
      "DEBUG:matplotlib.font_manager:findfont: score(<Font 'Phosphate' (Phosphate.ttc) normal normal 400 normal>) = 10.05\n",
      "DEBUG:matplotlib.font_manager:findfont: score(<Font 'Noto Sans Inscriptional Pahlavi' (NotoSansInscriptionalPahlavi-Regular.ttf) normal normal 400 normal>) = 10.05\n",
      "DEBUG:matplotlib.font_manager:findfont: score(<Font 'PingFang HK' (PingFang.ttc) normal normal 400 normal>) = 10.05\n",
      "DEBUG:matplotlib.font_manager:findfont: score(<Font 'Bodoni 72' (Bodoni 72.ttc) normal normal 400 normal>) = 10.05\n",
      "DEBUG:matplotlib.font_manager:findfont: score(<Font 'Marion' (Marion.ttc) normal normal 400 normal>) = 10.05\n",
      "DEBUG:matplotlib.font_manager:findfont: score(<Font '.New York' (NewYork.ttf) normal normal 425 normal>) = 10.07375\n",
      "DEBUG:matplotlib.font_manager:findfont: score(<Font 'Chalkboard' (Chalkboard.ttc) normal normal 400 normal>) = 10.05\n",
      "DEBUG:matplotlib.font_manager:findfont: score(<Font 'Noto Sans Ogham' (NotoSansOgham-Regular.ttf) normal normal 400 normal>) = 10.05\n",
      "DEBUG:matplotlib.font_manager:findfont: score(<Font '.SF NS Display Condensed' (SFNSDisplayCondensed-Bold.otf) normal normal 800 condensed>) = 10.629999999999999\n",
      "DEBUG:matplotlib.font_manager:findfont: score(<Font 'Hoefler Text' (Hoefler Text.ttc) normal normal 400 normal>) = 10.05\n",
      "DEBUG:matplotlib.font_manager:findfont: score(<Font 'STIXIntegralsUp' (STIXIntUpBol.otf) normal normal 700 normal>) = 10.335\n",
      "DEBUG:matplotlib.font_manager:findfont: score(<Font 'Seravek' (Seravek.ttc) normal normal 400 normal>) = 10.05\n",
      "DEBUG:matplotlib.font_manager:findfont: score(<Font 'Hiragino Sans GB' (Hiragino Sans GB.ttc) normal normal 300 normal>) = 10.145\n",
      "DEBUG:matplotlib.font_manager:findfont: score(<Font 'Trattatello' (Trattatello.ttf) normal normal 400 normal>) = 10.05\n",
      "DEBUG:matplotlib.font_manager:findfont: score(<Font 'Optima' (Optima.ttc) normal normal 400 normal>) = 10.05\n",
      "DEBUG:matplotlib.font_manager:findfont: score(<Font 'Wingdings 2' (Wingdings 2.ttf) normal normal 400 normal>) = 10.05\n",
      "DEBUG:matplotlib.font_manager:findfont: score(<Font 'Gurmukhi MN' (Gurmukhi MN.ttc) normal normal 400 normal>) = 10.05\n",
      "DEBUG:matplotlib.font_manager:findfont: score(<Font 'Noto Serif Balinese' (NotoSerifBalinese-Regular.ttf) normal normal 400 normal>) = 10.05\n",
      "DEBUG:matplotlib.font_manager:findfont: score(<Font 'Diwan Kufi' (Diwan Kufi.ttc) normal normal 400 normal>) = 10.05\n",
      "DEBUG:matplotlib.font_manager:findfont: score(<Font 'Noto Sans Lycian' (NotoSansLycian-Regular.ttf) normal normal 400 normal>) = 10.05\n",
      "DEBUG:matplotlib.font_manager:findfont: score(<Font 'Noto Sans Thaana' (NotoSansThaana-Regular.ttf) normal normal 400 normal>) = 10.05\n",
      "DEBUG:matplotlib.font_manager:findfont: score(<Font 'Euphemia UCAS' (EuphemiaCAS.ttc) normal normal 400 normal>) = 10.05\n",
      "DEBUG:matplotlib.font_manager:findfont: score(<Font 'Devanagari Sangam MN' (Devanagari Sangam MN.ttc) normal normal 400 normal>) = 10.05\n",
      "DEBUG:matplotlib.font_manager:findfont: score(<Font '.SF Compact Text' (SFCompactText.ttf) normal normal 400 normal>) = 10.05\n",
      "DEBUG:matplotlib.font_manager:findfont: score(<Font 'Arial' (Arial Bold.ttf) normal normal 700 normal>) = 6.698636363636363\n",
      "DEBUG:matplotlib.font_manager:findfont: score(<Font 'Noto Sans Brahmi' (NotoSansBrahmi-Regular.ttf) normal normal 400 normal>) = 10.05\n",
      "DEBUG:matplotlib.font_manager:findfont: score(<Font 'Hiragino Sans' (ヒラギノ角ゴシック W4.ttc) normal normal 400 normal>) = 10.05\n",
      "DEBUG:matplotlib.font_manager:findfont: Matching sans\\-serif:style=normal:variant=normal:weight=normal:stretch=normal:size=10.0 to DejaVu Sans ('/Users/es1595/opt/anaconda3/lib/python3.7/site-packages/matplotlib/mpl-data/fonts/ttf/DejaVuSans.ttf') with score of 0.050000.\n"
     ]
    },
    {
     "data": {
      "image/png": "[encoded data removed]",
      "text/plain": [
       "<Figure size 432x288 with 1 Axes>"
      ]
     },
     "metadata": {
      "needs_background": "light"
     },
     "output_type": "display_data"
    },
    {
     "data": {
      "image/png": "[encoded data removed]",
      "text/plain": [
       "<Figure size 432x288 with 1 Axes>"
      ]
     },
     "metadata": {
      "needs_background": "light"
     },
     "output_type": "display_data"
    },
    {
     "data": {
      "image/png": "[encoded data removed]",
      "text/plain": [
       "<Figure size 432x288 with 1 Axes>"
      ]
     },
     "metadata": {
      "needs_background": "light"
     },
     "output_type": "display_data"
    }
   ],
   "source": [
    "# print the confusion matrix for worker i\n",
    "def plot_confusion_matrix(model, annotator_idx):\n",
    "    \n",
    "    # compute the expected confusion matrix by normalising the alpha variational parameter\n",
    "    E_conf_mat = model.A.alpha[:, :, annotator_idx] / np.sum(model.A.alpha[:, :, annotator_idx], axis=1)[:, None]\n",
    "    \n",
    "    plt.figure()\n",
    "    plt.imshow(E_conf_mat)\n",
    "    \n",
    "    min_val, max_val = 0, model.L\n",
    "    ind_array_rows = np.arange(min_val, max_val, 1)\n",
    "    \n",
    "    min_val, max_val = 0, model.L\n",
    "    ind_array_cols = np.arange(min_val, max_val, 1)\n",
    "    \n",
    "    x, y = np.meshgrid(ind_array_rows, ind_array_cols)\n",
    "\n",
    "    for i, (x_val, y_val) in enumerate(zip(x.flatten(), y.flatten())):\n",
    "        text = \"%.2f\" % E_conf_mat[y_val, x_val]\n",
    "        txt = plt.text(x_val, y_val, text, va='center', ha='center')\n",
    "        txt.set_path_effects([PathEffects.withStroke(linewidth=5, foreground='w')])\n",
    "        \n",
    "    plt.xlabel('annotator label')\n",
    "    plt.ylabel('true label')\n",
    "    plt.yticks([0, 1])\n",
    "    plt.xticks([0, 1])\n",
    "\n",
    "        \n",
    "# Show the results with a selection of annotators:\n",
    "plot_confusion_matrix(ibcc_model, 0)\n",
    "plot_confusion_matrix(ibcc_model, 1)\n",
    "plot_confusion_matrix(ibcc_model, 2)"
   ]
  },
  {
   "cell_type": "markdown",
   "id": "compliant-saturday",
   "metadata": {},
   "source": [
    "If we need a single value to assess an annotator's competence, we can compute the mutual information (MI) between the annotators' labels and the ground truth. This value uses information theory to quantify how much we learn about the true label from an annotator's label. In other words the information gain (IG) from the annotation.\n",
    "\n",
    "Assuming an unlabelled data point, the information gain about a label $c_i$ from annotator $n$'s label, $y_{i,n}$ is:\n",
    "\n",
    "$$\n",
    "I(c_i; y_{i,n}) = H(c_{i}) - H(c_i | y_{i,n}) \\\\\n",
    "= \\sum_{j=1}^J\\left\\{ - p(c_i=j) \\ln p(c_i=j) + \\sum_{k=1}^J p(y_{i,n}=k)p(c_i=j | y_{i,n}=k) \\ln p(c_i=j | y_{i,n}=k) \\right\\} \\\\\n",
    "= \\sum_{j=1}^J \\left\\{ - p(c_i=j) \\ln p(c_i=j) + \\sum_{k=1}^J p(y_{i,n}=k | c_i=j)p(c_i=j) \\ln \\frac{p(y_{i,n}=k | c_i=j)p(c_i=j)}{\\sum_{l=1}^J p(y_{i,n}=l | c_i=j)p(c_i=j)} \\right\\}\n",
    "$$\n",
    "\n",
    "where $J$ is the number of classes and $H$ is entropy.\n",
    "\n",
    "This function is already implemented in the BayesianCombination library:"
   ]
  },
  {
   "cell_type": "code",
   "execution_count": 12,
   "id": "peripheral-marathon",
   "metadata": {},
   "outputs": [
    {
     "name": "stdout",
     "output_type": "stream",
     "text": [
      "Annotator 8 has informativeness score of 0.5108816402385874\n",
      "Annotator 16 has informativeness score of 0.3472407324046234\n",
      "Annotator 20 has informativeness score of 0.3267822090795855\n",
      "Annotator 10 has informativeness score of 0.3238879988254529\n",
      "Annotator 12 has informativeness score of 0.318768899455469\n"
     ]
    }
   ],
   "source": [
    "I = ibcc_model.informativeness()  # get a list of informativeness scores for all annotators\n",
    "\n",
    "ranks = np.flip(np.argsort(I))  # sort in descending order\n",
    "\n",
    "# Print the top annotators' scores and confusion matrices\n",
    "for i in range(5):\n",
    "    print(\"Annotator {} has informativeness score of {}\".format(ranks[i], I[ranks[i]]))\n",
    "#     plot_confusion_matrix(ibcc_model, ranks[i])"
   ]
  },
  {
   "cell_type": "markdown",
   "id": "international-lewis",
   "metadata": {},
   "source": [
    "### Adjusting the hyperparameters\n",
    "\n",
    "In IBCC, each worker has a confusion matrix parameter for each worker that determines the likelihood of the worker labels given the true classes. Each row of this matrix, $\\boldsymbol\\pi_j$, contains the probabilities of a categorical distribution for the case when the true label has value $j$. These probabilities have a Dirichlet prior distribution, $\\boldsymbol\\pi_j \\sim Dirichlet(\\boldsymbol\\alpha_{0,j})$. The hyperparameter vectors $\\boldsymbol\\alpha_{0,j}$ are rows of the hyperparameter matrix, $\\boldsymbol\\alpha$.\n",
    "\n",
    "By default, the IBCC code sets the values in $\\boldsymbol\\alpha$ to $1$ on the off-diagonals and 2 on the diagonals. Larger values on the diagonals increase the probability that workers tend to give the right answer, because the diagonals correspond to giving correct answers.\n",
    "\n",
    "However, we can set $\\boldsymbol\\alpha$ to any suitable values for a particular domain. \n",
    "\n",
    "The model also has a hyperparameter $\\boldsymbol\\beta_0$ that also parametrises a Dirichlet distribution over the class prior. Adjusting this encodes the prior belief in the balance between the two classes.\n",
    "\n",
    "To understand the effects of $\\boldsymbol\\alpha_0$ and $\\boldsymbol\\beta_0$, let's first visualise the Dirichlet distribution to see how it maps $\\boldsymbol\\alpha_{0,j}$ to a distribution over probabilities. In our use case, we have only two classes, so we can work with the binary special case of the Dirichlet known as the Beta distribution. For the binary case, we compute the probability density function over p(class 1) only, since p(class 0) = 1 - p(class 1)."
   ]
  },
  {
   "cell_type": "code",
   "execution_count": 101,
   "id": "comparable-nudist",
   "metadata": {},
   "outputs": [
    {
     "data": {
      "text/plain": [
       "<matplotlib.legend.Legend at 0x7ff2f5e1b710>"
      ]
     },
     "execution_count": 101,
     "metadata": {},
     "output_type": "execute_result"
    },
    {
     "data": {
      "image/png": "[encoded data removed]",
      "text/plain": [
       "<Figure size 432x288 with 1 Axes>"
      ]
     },
     "metadata": {
      "needs_background": "light"
     },
     "output_type": "display_data"
    },
    {
     "data": {
      "image/png": "[encoded data removed]",
      "text/plain": [
       "<Figure size 432x288 with 1 Axes>"
      ]
     },
     "metadata": {
      "needs_background": "light"
     },
     "output_type": "display_data"
    },
    {
     "data": {
      "image/png": "[encoded data removed]",
      "text/plain": [
       "<Figure size 432x288 with 1 Axes>"
      ]
     },
     "metadata": {
      "needs_background": "light"
     },
     "output_type": "display_data"
    }
   ],
   "source": [
    "#First, let's plot some beta distriutions for different parameters:\n",
    "\n",
    "plt.figure()\n",
    "plt.title('Uncertainty over whether a worker is accurate or not')\n",
    "\n",
    "x = np.arange(101) / 100.0\n",
    "y = beta.pdf(x, 1, 1)\n",
    "plt.plot(x,y, label='1, 1: noninformative prior -- no prior knowledge')\n",
    "\n",
    "y = beta.pdf(x, 0.1, 0.1)\n",
    "plt.plot(x,y, label='0.1, 0.1: extreme, but uncertain which extreme')\n",
    "\n",
    "y = beta.pdf(x, 0.8, 0.8)\n",
    "plt.plot(x,y, label='0.8, 0.8: bias to the extremes')\n",
    "\n",
    "plt.legend(loc='best')\n",
    "\n",
    "\n",
    "plt.figure()\n",
    "plt.title('Weak priori belief that the worker is accurate')\n",
    "\n",
    "y = beta.pdf(x, 1, 0.1)\n",
    "plt.plot(x,y, label='1, 1.1')\n",
    "\n",
    "y = beta.pdf(x, 2, 1)\n",
    "plt.plot(x,y, label='1, 2')\n",
    "\n",
    "y = beta.pdf(x, 10, 9)\n",
    "plt.plot(x,y, label=', 5')\n",
    "\n",
    "\n",
    "plt.figure()\n",
    "plt.title('Strong priori belief that the worker is accurate')\n",
    "\n",
    "y = beta.pdf(x, 1, 0.1)\n",
    "plt.plot(x,y, label='1, 0.1')\n",
    "\n",
    "y = beta.pdf(x, 10, 1)\n",
    "plt.plot(x,y, label='10, 1')\n",
    "\n",
    "y = beta.pdf(x, 10, 5)\n",
    "plt.plot(x,y, label='10, 5')\n",
    "\n",
    "y = beta.pdf(x, 100, 50)\n",
    "plt.plot(x,y, label='100, 50')\n",
    "\n",
    "plt.legend(loc='best')"
   ]
  },
  {
   "cell_type": "markdown",
   "id": "mature-composer",
   "metadata": {},
   "source": [
    "Now, we can plot performance (prec, rec, f1) as we vary $\\boldsymbol\\alpha_0$ then $\\boldsymbol\\beta_0$. To reduce the number of hyperparameters we have to vary, we are going to consider just two values: a value that is first assigned to all entries, and a value that is added to all diagonals."
   ]
  },
  {
   "cell_type": "code",
   "execution_count": 102,
   "id": "double-editing",
   "metadata": {},
   "outputs": [
    {
     "name": "stdout",
     "output_type": "stream",
     "text": [
      "Best results: base value=1.0, diagonal=10.0, F1 score=0.84004884004884\n"
     ]
    },
    {
     "data": {
      "text/plain": [
       "<mpl_toolkits.mplot3d.art3d.Poly3DCollection at 0x7ff2fd917850>"
      ]
     },
     "execution_count": 102,
     "metadata": {},
     "output_type": "execute_result"
    },
    {
     "data": {
      "image/png": "[encoded data removed]",
      "text/plain": [
       "<Figure size 432x288 with 1 Axes>"
      ]
     },
     "metadata": {
      "needs_background": "light"
     },
     "output_type": "display_data"
    }
   ],
   "source": [
    "from mpl_toolkits.mplot3d import Axes3D\n",
    "from matplotlib import cm\n",
    "\n",
    "\n",
    "def run_ibcc(diagonals, base, beta0, gold_labels, crowd_matrix):\n",
    "\n",
    "    ibcc_model = IBCC(\n",
    "        L=2, # number of classes\n",
    "        K=num_workers, \n",
    "        alpha0_factor=base,\n",
    "        alpha0_diags=diagonals,\n",
    "        beta0_factor=beta0\n",
    "    )\n",
    "\n",
    "    # Run inference to obtain an array of size num_data_points x num_classes containing the probabilities of the true labels\n",
    "    posterior, predictions, _ = ibcc_model.fit_predict(crowd_matrix)\n",
    "    \n",
    "    idxs = gold_labels != -1\n",
    "    acc = accuracy_score(gold_labels[idxs], predictions[idxs])\n",
    "    f1 = f1_score(gold_labels[idxs], predictions[idxs])\n",
    "    \n",
    "    return acc, f1\n",
    "\n",
    "range_diagonals = np.array([0.01, 0.1, 1, 10, 100])\n",
    "range_base = np.array([0.01, 0.1, 1, 10, 100])\n",
    "\n",
    "results_acc = np.zeros((len(range_base), len(range_diagonals)))\n",
    "results_f1 = np.zeros((len(range_base), len(range_diagonals)))\n",
    "\n",
    "for i, o in enumerate(range_base):\n",
    "    for j, d in enumerate(range_diagonals):\n",
    "        acc, f1 = run_ibcc(d, o, 1, gold_labels, crowd_matrix)\n",
    "        \n",
    "        results_acc[i, j] = acc\n",
    "        results_f1[i, j] = f1\n",
    "\n",
    "# bestbase, bestdiag = np.unravel_index(np.argmax(results_acc), (len(range_base), len(range_diagonals)))\n",
    "# print('Best results: base value={}, diagonal={}, accuracy={}'.format(\n",
    "#     range_base[bestbase],\n",
    "#     range_diagonals[bestdiag],\n",
    "#     results_acc[bestbase, bestdiag]\n",
    "# ) )\n",
    "        \n",
    "bestbase, bestdiag = np.unravel_index(np.argmax(results_f1), (len(range_base), len(range_diagonals)))\n",
    "print('Best results: base value={}, diagonal={}, F1 score={}'.format(\n",
    "    range_base[bestbase],\n",
    "    range_diagonals[bestdiag],\n",
    "    results_f1[bestbase, bestdiag]\n",
    ") )\n",
    "  \n",
    "# fig = plt.figure()\n",
    "# ax = fig.add_subplot(111, projection='3d')\n",
    "# ax.plot_surface(\n",
    "#     np.tile(np.log10(range_base)[None, :], (len(range_diagonals), 1)), \n",
    "#     np.tile(np.log10(range_diagonals)[:, None], (1, len(range_base))), \n",
    "#     results_acc,\n",
    "#     cmap=cm.coolwarm,\n",
    "#     linewidth=0, \n",
    "#     antialiased=False\n",
    "# )\n",
    "\n",
    "fig = plt.figure()\n",
    "ax = fig.add_subplot(111, projection='3d')\n",
    "ax.plot_surface(\n",
    "    np.tile(np.log10(range_base)[None, :], (len(range_diagonals), 1)), \n",
    "    np.tile(np.log10(range_diagonals)[:, None], (1, len(range_base))), \n",
    "    results_f1,\n",
    "    cmap=cm.coolwarm,\n",
    "    linewidth=0, \n",
    "    antialiased=False\n",
    ")"
   ]
  },
  {
   "cell_type": "code",
   "execution_count": 103,
   "id": "intensive-figure",
   "metadata": {},
   "outputs": [
    {
     "name": "stdout",
     "output_type": "stream",
     "text": [
      "Best results: beta0=100.0, accuracy=0.83625\n",
      "Best results: beta0=100.0, F1 score=0.84004884004884\n"
     ]
    },
    {
     "data": {
      "text/plain": [
       "<matplotlib.legend.Legend at 0x7ff2f6348ed0>"
      ]
     },
     "execution_count": 103,
     "metadata": {},
     "output_type": "execute_result"
    },
    {
     "data": {
      "image/png": "[encoded data removed]",
      "text/plain": [
       "<Figure size 432x288 with 1 Axes>"
      ]
     },
     "metadata": {
      "needs_background": "light"
     },
     "output_type": "display_data"
    }
   ],
   "source": [
    "# Do it again, this time varying beta0 and keeping alpha0 fixed\n",
    "range_proportions = np.array([0.01, 0.1, 1, 10, 100])\n",
    "\n",
    "results_acc = np.zeros(len(range_proportions))\n",
    "results_f1 = np.zeros(len(range_proportions))\n",
    "\n",
    "for i, p in enumerate(range_proportions):\n",
    "    acc, f1 = run_ibcc(1, 1, p, gold_labels, crowd_matrix)\n",
    "\n",
    "    results_acc[i] = acc\n",
    "    results_f1[i] = f1\n",
    "\n",
    "bestbeta = np.argmax(results_acc)\n",
    "print('Best results: beta0={}, accuracy={}'.format(\n",
    "    range_proportions[bestbeta],\n",
    "    results_acc[bestbeta]\n",
    ") )\n",
    "        \n",
    "bestbeta = np.argmax(results_f1)\n",
    "print('Best results: beta0={}, F1 score={}'.format(\n",
    "    range_proportions[bestbeta],\n",
    "    results_f1[bestbeta]\n",
    ") )\n",
    "  \n",
    "fig = plt.figure()\n",
    "plt.plot(\n",
    "    np.log10(range_proportions),\n",
    "    results_f1,\n",
    "    label='f1'\n",
    ")\n",
    "plt.plot(\n",
    "    np.log10(range_proportions),\n",
    "    results_acc,\n",
    "    label='accuracy'\n",
    ")\n",
    "\n",
    "plt.legend(loc='best')\n",
    "\n"
   ]
  },
  {
   "cell_type": "markdown",
   "id": "perfect-federation",
   "metadata": {},
   "source": [
    "## CrowdLayer\n",
    "\n",
    "This part explores a model for training neural networks directly from crowdsourced labels, which learns how to weight the contributions from each annotator. This method was proposed in [Rodrigues and Pereira (2018), Deep Learning from Crowds](http://fprodrigues.com//publications/deep-crowds/).  \n",
    "\n",
    "We will make use of code provided by Filipe Rodrigues. For this part we will need Keras 2. If you don't already have it, you can install it with pip directly by running the command below:"
   ]
  },
  {
   "cell_type": "code",
   "execution_count": 75,
   "id": "assigned-tokyo",
   "metadata": {},
   "outputs": [
    {
     "name": "stdout",
     "output_type": "stream",
     "text": [
      "Requirement already satisfied: keras in /Users/es1595/opt/anaconda3/lib/python3.7/site-packages (2.4.3)\r\n",
      "Requirement already satisfied: scipy>=0.14 in /Users/es1595/opt/anaconda3/lib/python3.7/site-packages (from keras) (1.5.2)\r\n",
      "Requirement already satisfied: h5py in /Users/es1595/opt/anaconda3/lib/python3.7/site-packages (from keras) (2.10.0)\r\n",
      "Requirement already satisfied: pyyaml in /Users/es1595/opt/anaconda3/lib/python3.7/site-packages (from keras) (5.4.1)\r\n",
      "Requirement already satisfied: numpy>=1.9.1 in /Users/es1595/opt/anaconda3/lib/python3.7/site-packages (from keras) (1.19.5)\r\n",
      "Requirement already satisfied: six in /Users/es1595/opt/anaconda3/lib/python3.7/site-packages (from h5py->keras) (1.15.0)\r\n"
     ]
    }
   ],
   "source": [
    "!pip install keras"
   ]
  },
  {
   "cell_type": "markdown",
   "id": "opening-portrait",
   "metadata": {},
   "source": [
    "Next, you need to do the following:\n",
    "   * Download the GloVe embeddings [from Stanford](http://nlp.stanford.edu/data/glove.6B.zip) and unzip the file into the directory containing this notebook. \n",
    "   * Download or pull the CrowdLayer code [from Filipe's Github](https://github.com/fmpr/CrowdLayer) and copy the `crowd_layer` directory into the directory containing this notebook."
   ]
  },
  {
   "cell_type": "code",
   "execution_count": 104,
   "id": "qualified-lawrence",
   "metadata": {},
   "outputs": [],
   "source": [
    "from tensorflow.keras.layers.experimental.preprocessing import TextVectorization\n",
    "import tensorflow as tf\n",
    "from tensorflow.keras import layers, Sequential\n",
    "from tensorflow import keras\n",
    "from tensorflow.keras.layers import Embedding\n",
    "\n",
    "from crowd_layer.crowd_layers import CrowdsClassification, MaskedMultiCrossEntropy"
   ]
  },
  {
   "cell_type": "markdown",
   "id": "compressed-charm",
   "metadata": {},
   "source": [
    "### Format the data for a Keras text classifier"
   ]
  },
  {
   "cell_type": "code",
   "execution_count": 105,
   "id": "mediterranean-aquatic",
   "metadata": {},
   "outputs": [],
   "source": [
    "# join the text and hypothesis into a single sequence, then split into train and validation sets\n",
    "x_t = textdata[\"text\"].values\n",
    "x_h = textdata[\"hypothesis\"].values\n",
    "x = []\n",
    "for i in range(len(x_t)):\n",
    "    x.append(x_t[i] + '  ' + x_h[i])  # this simple model doesn't distinguish between text and hypothesis\n",
    "\n",
    "split_size = 600\n",
    "train_samples = x[:split_size]\n",
    "val_samples = x[split_size:]\n",
    "\n",
    "# Vectorize the text\n",
    "vectorizer = TextVectorization(max_tokens=2000, output_sequence_length=200)\n",
    "text_ds = tf.data.Dataset.from_tensor_slices(train_samples).batch(128)\n",
    "vectorizer.adapt(text_ds)\n",
    "\n",
    "voc = vectorizer.get_vocabulary()\n",
    "word_index = dict(zip(voc, range(len(voc))))"
   ]
  },
  {
   "cell_type": "code",
   "execution_count": 106,
   "id": "engaged-diary",
   "metadata": {},
   "outputs": [
    {
     "name": "stdout",
     "output_type": "stream",
     "text": [
      "[ True  True False False False  True False  True False  True False  True\n",
      "  True  True  True  True False False False False False  True  True False\n",
      " False False False  True False False False False False False  True False\n",
      "  True False  True False False False  True False  True  True False False\n",
      "  True False  True  True  True False  True False  True False False  True\n",
      "  True  True False False False False False False False False False  True\n",
      "  True  True  True  True False False False  True False False  True False\n",
      " False  True False False  True  True  True  True  True False  True  True\n",
      "  True  True  True  True False  True False  True  True  True  True False\n",
      " False False  True False False False False  True  True False False False\n",
      " False  True  True False  True  True False  True False False  True  True\n",
      "  True False False False  True  True False False False  True False  True\n",
      " False  True  True  True False  True  True False False False False  True\n",
      "  True False False  True  True False False False False False False  True\n",
      " False  True False  True  True  True  True  True False  True False False\n",
      " False False  True  True False False  True  True  True  True False  True\n",
      "  True  True  True  True False False False  True]\n",
      "[0 1 1 1 1 1 1 1 0 0 1 0 1 1 0 0 1 1 1 1 1 0 1 0 1 1 1 1 1 0 1 1 1 1 1 1 0\n",
      " 1 1 1 1 1 1 1 1 1 0 0 1 1 1 1 1 1 1 0 1 1 0 1 0 0 1 0 1 1 0 1 0 0 1 0 1 1\n",
      " 1 1 1 1 0 0 1 1 1 1 1 1 1 1 0 1 1 0 0 0 0 0 1 1 1 0 1 1 1 1 1 0 0 0 1 1 1\n",
      " 1 1 1 0 0 1 1 1 1 1 0 0 1 1 1 1 1 1 0 0 0 1 1 0 0 1 0 1 0 1 0 1 1 1 1 1 1\n",
      " 1 0 1 1 0 1 1 1 1 1 1 1 1 0 1 1 0 0 0 0 0 0 1 1 1 1 1 1 0 0 1 0 0 0 0 0 1\n",
      " 0 1 0 1 0 0 1 0 1 0 1 1 1 0 0 0 1 1 0 1 1 0 0 0 1 0 1 0 1 1 0 0 0 1 1 1 0\n",
      " 1 0 1 0 1 1 1 0 0 1 0 0 1 0 1 1 1 0 0 1 1 1 0 0 1 1 1 1 1 1 1 1 1 0 1 1 0\n",
      " 1 1 1 0 1 1 1 0 1 1 0 1 1 0 1 1 0 0 1 1 1 0 1 1 1 1 0 0 1 0 1 1 1 1 1 1 0\n",
      " 1 1 0 1 1 0 1 0 1 1 1 0 1 1 1 1 1 1 1 0 0 1 1 1 1 1 1 1 1 1 1 0 1 1 1 0 1\n",
      " 1 0 1 0 1 1 0 1 0 1 0 1 0 0 1 0 1 1 1 0 1 1 0 0 0 1 1 1 1 1 1 0 1 1 0 0 1\n",
      " 0 1 0 1 1 1 1 1 0 0 0 1 1 1 0 0 0 0 1 0 0 0 1 0 0 0 0 0 1 1 0 1 1 0 1 1 1\n",
      " 0 1 1 0 0 1 1 1 0 0 1 1 0 0 1 0 1 1 0 0 1 1 0 1 0 1 0 1 1 0 0 0 1 1 0 1 0\n",
      " 1 1 0 0 0 1 1 0 0 0 0 0 1 1 0 1 0 0 0 0 1 0 0 0 1 1 1 1 0 1 1 1 1 0 0 0 1\n",
      " 0 0 1 0 1 1 0 1 1 1 0 1 1 0 0 1 0 1 0 1 1 1 1 0 1 1 1 1 0 0 0 1 0 1 1 1 1\n",
      " 1 0 0 1 0 0 1 1 0 0 1 0 0 1 0 0 1 1 0 0 0 1 0 0 1 0 0 0 0 0 1 1 0 1 0 0 1\n",
      " 0 0 1 1 0 1 0 0 1 1 1 0 1 0 0 1 1 1 1 1 0 0 1 1 0 1 1 0 1 1 0 0 1 0 0 0 0\n",
      " 0 0 0 0 0 1 0 0]\n"
     ]
    },
    {
     "name": "stderr",
     "output_type": "stream",
     "text": [
      "/Users/es1595/opt/anaconda3/lib/python3.7/site-packages/ipykernel_launcher.py:6: FutureWarning: elementwise comparison failed; returning scalar instead, but in the future will perform elementwise comparison\n",
      "  \n",
      "/Users/es1595/opt/anaconda3/lib/python3.7/site-packages/ipykernel_launcher.py:7: FutureWarning: elementwise comparison failed; returning scalar instead, but in the future will perform elementwise comparison\n",
      "  import sys\n"
     ]
    }
   ],
   "source": [
    "# apply the vectoriser to the text\n",
    "x_train = vectorizer(np.array([[s] for s in train_samples])).numpy()\n",
    "x_val = vectorizer(np.array([[s] for s in val_samples])).numpy()\n",
    "\n",
    "y = textdata[\"gold\"].values\n",
    "y[y == 'True'] = 1\n",
    "y[y == 'False'] = 0\n",
    "y_train = ibcc_predictions[gold_labels != -1][:split_size]\n",
    "y_val = np.array(y[split_size:])\n",
    "\n",
    "print(y_val)\n",
    "print(y_train)"
   ]
  },
  {
   "cell_type": "code",
   "execution_count": 107,
   "id": "sapphire-floating",
   "metadata": {},
   "outputs": [
    {
     "name": "stdout",
     "output_type": "stream",
     "text": [
      "Found 400000 word vectors.\n"
     ]
    }
   ],
   "source": [
    "# create a dictionary that maps word types to embeddings\n",
    "\n",
    "embedding_size = 50  # select which glove embeddings to use by their dimension\n",
    "path_to_glove_file = \"./glove.6B/glove.6B.{}d.txt\".format(embedding_size)\n",
    "\n",
    "embeddings_index = {}\n",
    "with open(path_to_glove_file) as f:\n",
    "    for line in f:\n",
    "        word, coefs = line.split(maxsplit=1)\n",
    "        coefs = np.fromstring(coefs, \"f\", sep=\" \")\n",
    "        embeddings_index[word] = coefs\n",
    "\n",
    "print(\"Found %s word vectors.\" % len(embeddings_index))"
   ]
  },
  {
   "cell_type": "code",
   "execution_count": 108,
   "id": "macro-america",
   "metadata": {},
   "outputs": [
    {
     "name": "stdout",
     "output_type": "stream",
     "text": [
      "Converted 1906 words (94 misses)\n"
     ]
    }
   ],
   "source": [
    "# map the words in the text to their embeddings \n",
    "num_tokens = len(voc) + 2\n",
    "hits = 0\n",
    "misses = 0\n",
    "\n",
    "# Prepare embedding matrix\n",
    "embedding_matrix = np.zeros((num_tokens, embedding_size))\n",
    "for word, i in word_index.items():\n",
    "    embedding_vector = embeddings_index.get(word)\n",
    "    if embedding_vector is not None:\n",
    "        # Words not found in embedding index will be all-zeros.\n",
    "        # This includes the representation for \"padding\" and \"OOV\"\n",
    "        embedding_matrix[i] = embedding_vector\n",
    "        hits += 1\n",
    "    else:\n",
    "        misses += 1\n",
    "print(\"Converted %d words (%d misses)\" % (hits, misses))"
   ]
  },
  {
   "cell_type": "markdown",
   "id": "satisfactory-election",
   "metadata": {},
   "source": [
    "### Train neural text classifier on aggregated labels from IBCC\n",
    "\n",
    "Now we're ready to train a neural network classifier on our task. Let's start by seeing how it does it we take the adjudicated labels from IBCC as a gold standard. This is, roughly speaking, the typical NLP setup for providing training labels."
   ]
  },
  {
   "cell_type": "code",
   "execution_count": 119,
   "id": "roman-spice",
   "metadata": {},
   "outputs": [
    {
     "name": "stdout",
     "output_type": "stream",
     "text": [
      "Model: \"model_32\"\n",
      "_________________________________________________________________\n",
      "Layer (type)                 Output Shape              Param #   \n",
      "=================================================================\n",
      "input_23 (InputLayer)        [(None, None)]            0         \n",
      "_________________________________________________________________\n",
      "embedding_22 (Embedding)     (None, None, 50)          100100    \n",
      "_________________________________________________________________\n",
      "conv1d_34 (Conv1D)           (None, None, 32)          3232      \n",
      "_________________________________________________________________\n",
      "max_pooling1d_12 (MaxPooling (None, None, 32)          0         \n",
      "_________________________________________________________________\n",
      "conv1d_35 (Conv1D)           (None, None, 32)          5152      \n",
      "_________________________________________________________________\n",
      "global_max_pooling1d_22 (Glo (None, 32)                0         \n",
      "_________________________________________________________________\n",
      "dense_44 (Dense)             (None, 32)                1056      \n",
      "_________________________________________________________________\n",
      "dropout_22 (Dropout)         (None, 32)                0         \n",
      "_________________________________________________________________\n",
      "dense_45 (Dense)             (None, 2)                 66        \n",
      "=================================================================\n",
      "Total params: 109,606\n",
      "Trainable params: 9,506\n",
      "Non-trainable params: 100,100\n",
      "_________________________________________________________________\n",
      "[[ 119   27   23 ...    0    0    0]\n",
      " [1695 1922  378 ...    0    0    0]\n",
      " [   2   66    1 ...    0    0    0]\n",
      " ...\n",
      " [   1    1 1141 ...    0    0    0]\n",
      " [   1    9  120 ...    0    0    0]\n",
      " [   8  192  757 ...    0    0    0]]\n",
      "Epoch 1/20\n",
      "5/5 [==============================] - 1s 110ms/step - loss: 1.0181 - acc: 0.4673 - val_loss: 0.7937 - val_acc: 0.5050\n",
      "Epoch 2/20\n",
      "5/5 [==============================] - 0s 23ms/step - loss: 0.8354 - acc: 0.5620 - val_loss: 0.6991 - val_acc: 0.5050\n",
      "Epoch 3/20\n",
      "5/5 [==============================] - 0s 29ms/step - loss: 0.7201 - acc: 0.5593 - val_loss: 0.6899 - val_acc: 0.5000\n",
      "Epoch 4/20\n",
      "5/5 [==============================] - 0s 26ms/step - loss: 0.7067 - acc: 0.5638 - val_loss: 0.6962 - val_acc: 0.4950\n",
      "Epoch 5/20\n",
      "5/5 [==============================] - 0s 25ms/step - loss: 0.7075 - acc: 0.5514 - val_loss: 0.7001 - val_acc: 0.5050\n",
      "Epoch 6/20\n",
      "5/5 [==============================] - 0s 25ms/step - loss: 0.6823 - acc: 0.5568 - val_loss: 0.7010 - val_acc: 0.5000\n",
      "Epoch 7/20\n",
      "5/5 [==============================] - 0s 26ms/step - loss: 0.6761 - acc: 0.5698 - val_loss: 0.7039 - val_acc: 0.5100\n",
      "Epoch 8/20\n",
      "5/5 [==============================] - 0s 24ms/step - loss: 0.6728 - acc: 0.5790 - val_loss: 0.7047 - val_acc: 0.5100\n",
      "Epoch 9/20\n",
      "5/5 [==============================] - 0s 22ms/step - loss: 0.6619 - acc: 0.6278 - val_loss: 0.7015 - val_acc: 0.5150\n",
      "Epoch 10/20\n",
      "5/5 [==============================] - 0s 22ms/step - loss: 0.6576 - acc: 0.6095 - val_loss: 0.6976 - val_acc: 0.5050\n",
      "Epoch 11/20\n",
      "5/5 [==============================] - 0s 26ms/step - loss: 0.6517 - acc: 0.6068 - val_loss: 0.7010 - val_acc: 0.5100\n",
      "Epoch 12/20\n",
      "5/5 [==============================] - 0s 29ms/step - loss: 0.6496 - acc: 0.5955 - val_loss: 0.7007 - val_acc: 0.5000\n",
      "Epoch 13/20\n",
      "5/5 [==============================] - 0s 24ms/step - loss: 0.6426 - acc: 0.6528 - val_loss: 0.7002 - val_acc: 0.5000\n",
      "Epoch 14/20\n",
      "5/5 [==============================] - 0s 28ms/step - loss: 0.6301 - acc: 0.6353 - val_loss: 0.7007 - val_acc: 0.4700\n",
      "Epoch 15/20\n",
      "5/5 [==============================] - 0s 23ms/step - loss: 0.6259 - acc: 0.6284 - val_loss: 0.7068 - val_acc: 0.5050\n",
      "Epoch 16/20\n",
      "5/5 [==============================] - 0s 20ms/step - loss: 0.6306 - acc: 0.6523 - val_loss: 0.6997 - val_acc: 0.4950\n",
      "Epoch 17/20\n",
      "5/5 [==============================] - 0s 25ms/step - loss: 0.6123 - acc: 0.6552 - val_loss: 0.7029 - val_acc: 0.4950\n",
      "Epoch 18/20\n",
      "5/5 [==============================] - 0s 23ms/step - loss: 0.6048 - acc: 0.6774 - val_loss: 0.7135 - val_acc: 0.4700\n",
      "Epoch 19/20\n",
      "5/5 [==============================] - 0s 20ms/step - loss: 0.6018 - acc: 0.6689 - val_loss: 0.7195 - val_acc: 0.5000\n",
      "Epoch 20/20\n",
      "5/5 [==============================] - 0s 25ms/step - loss: 0.5995 - acc: 0.6729 - val_loss: 0.6984 - val_acc: 0.4800\n"
     ]
    },
    {
     "data": {
      "text/plain": [
       "<tensorflow.python.keras.callbacks.History at 0x7ff2f6a89190>"
      ]
     },
     "execution_count": 119,
     "metadata": {},
     "output_type": "execute_result"
    }
   ],
   "source": [
    "def add_layers():\n",
    "    # build a fairly simple binary CNN classifier in Keras\n",
    "    int_sequences_input = keras.Input(shape=(None,), dtype=\"int64\")\n",
    "\n",
    "    embedding_layer = Embedding(\n",
    "        num_tokens,\n",
    "        embedding_size,\n",
    "        embeddings_initializer=keras.initializers.Constant(embedding_matrix),\n",
    "        trainable=False,\n",
    "    )\n",
    "    embedded_sequences = embedding_layer(int_sequences_input)\n",
    "\n",
    "    x = layers.Conv1D(32, 2, activation=\"relu\")(embedded_sequences)\n",
    "    x = layers.MaxPooling1D(5)(x)\n",
    "    x = layers.Conv1D(32, 5, activation=\"relu\")(x)\n",
    "    x = layers.GlobalMaxPooling1D()(x)\n",
    "    x = layers.Dense(32, activation=\"relu\")(x)\n",
    "    x = layers.Dropout(0.5)(x)\n",
    "\n",
    "    preds = layers.Dense(2, activation=\"softmax\")(x)\n",
    "    \n",
    "    return int_sequences_input, preds\n",
    "\n",
    "random.seed(14)\n",
    "\n",
    "int_sequences_input, preds = add_layers()\n",
    "\n",
    "model = keras.Model(int_sequences_input, preds)\n",
    "model.summary()\n",
    "\n",
    "model.compile(\n",
    "    loss=\"sparse_categorical_crossentropy\", optimizer=\"adam\", metrics=[\"acc\"]\n",
    ")\n",
    "print(x_train)\n",
    "model.fit(x_train, y_train, batch_size=128, epochs=20, validation_data=(x_val, y_val))"
   ]
  },
  {
   "cell_type": "markdown",
   "id": "legal-construction",
   "metadata": {},
   "source": [
    "Let's see the performance figures..."
   ]
  },
  {
   "cell_type": "code",
   "execution_count": 120,
   "id": "minute-privilege",
   "metadata": {},
   "outputs": [
    {
     "name": "stdout",
     "output_type": "stream",
     "text": [
      "Method = IBCC->CNN\n",
      "Accuracy = 0.48\n",
      "F1 score = 0.559322033898305\n",
      "Cross entropy error = 0.6984195393323899\n"
     ]
    }
   ],
   "source": [
    "y_val_prob = np.array(model.predict(x_val))\n",
    "y_val_pred = np.argmax(y_val_prob, axis=1)\n",
    "\n",
    "show_metrics(y_val, [y_val_prob[:, 1]], [y_val_pred], [\"IBCC->CNN\"])"
   ]
  },
  {
   "cell_type": "markdown",
   "id": "considered-bicycle",
   "metadata": {},
   "source": [
    "### Train neural text classifier using CrowdLayer\n",
    "\n",
    "Now, instead of using the adjudicated labels as training data, we can add an extra layer -- the CrowdLayer -- to the neural network and train directly on the crowdsourced labels. The CrowdLayer applies a kernel to the crowd labels to weight them by annotator ability."
   ]
  },
  {
   "cell_type": "code",
   "execution_count": 121,
   "id": "trying-mechanics",
   "metadata": {},
   "outputs": [
    {
     "name": "stdout",
     "output_type": "stream",
     "text": [
      "Tensor(\"crowds_classification_10/transpose:0\", shape=(None, 2, 164), dtype=float32)\n",
      "Model: \"model_33\"\n",
      "_________________________________________________________________\n",
      "Layer (type)                 Output Shape              Param #   \n",
      "=================================================================\n",
      "input_24 (InputLayer)        [(None, None)]            0         \n",
      "_________________________________________________________________\n",
      "embedding_23 (Embedding)     (None, None, 50)          100100    \n",
      "_________________________________________________________________\n",
      "conv1d_36 (Conv1D)           (None, None, 32)          3232      \n",
      "_________________________________________________________________\n",
      "max_pooling1d_13 (MaxPooling (None, None, 32)          0         \n",
      "_________________________________________________________________\n",
      "conv1d_37 (Conv1D)           (None, None, 32)          5152      \n",
      "_________________________________________________________________\n",
      "global_max_pooling1d_23 (Glo (None, 32)                0         \n",
      "_________________________________________________________________\n",
      "dense_46 (Dense)             (None, 32)                1056      \n",
      "_________________________________________________________________\n",
      "dropout_23 (Dropout)         (None, 32)                0         \n",
      "_________________________________________________________________\n",
      "dense_47 (Dense)             (None, 2)                 66        \n",
      "_________________________________________________________________\n",
      "crowds_classification_10 (Cr (None, 2, 164)            164       \n",
      "=================================================================\n",
      "Total params: 109,770\n",
      "Trainable params: 9,670\n",
      "Non-trainable params: 100,100\n",
      "_________________________________________________________________\n",
      "(600, 164)\n",
      "Epoch 1/20\n",
      "Tensor(\"model_33/crowds_classification_10/transpose:0\", shape=(None, 2, 164), dtype=float32)\n",
      "(164,)\n",
      "(164,)\n",
      "Tensor(\"model_33/crowds_classification_10/transpose:0\", shape=(None, 2, 164), dtype=float32)\n",
      "(164,)\n",
      "(164,)\n",
      "4/5 [=======================>......] - ETA: 0s - loss: 0.2145 Tensor(\"model_33/crowds_classification_10/transpose:0\", shape=(None, 2, 164), dtype=float32)\n",
      "5/5 [==============================] - 7s 287ms/step - loss: 0.1530 - val_loss: 241.6622\n",
      "Epoch 2/20\n",
      "5/5 [==============================] - 0s 33ms/step - loss: -0.1001 - val_loss: 241.7095\n",
      "Epoch 3/20\n",
      "5/5 [==============================] - 0s 29ms/step - loss: 0.0671 - val_loss: 241.6767\n",
      "Epoch 4/20\n",
      "5/5 [==============================] - 0s 30ms/step - loss: -0.0346 - val_loss: 241.5347\n",
      "Epoch 5/20\n",
      "5/5 [==============================] - 0s 27ms/step - loss: 0.0303 - val_loss: 241.4421\n",
      "Epoch 6/20\n",
      "5/5 [==============================] - 0s 27ms/step - loss: -0.0443 - val_loss: 241.3805\n",
      "Epoch 7/20\n",
      "5/5 [==============================] - 0s 28ms/step - loss: -0.0264 - val_loss: 241.3780\n",
      "Epoch 8/20\n",
      "5/5 [==============================] - 0s 26ms/step - loss: 0.0221 - val_loss: 241.4130\n",
      "Epoch 9/20\n",
      "5/5 [==============================] - 0s 26ms/step - loss: -0.0455 - val_loss: 241.3773\n",
      "Epoch 10/20\n",
      "5/5 [==============================] - 0s 27ms/step - loss: -0.0976 - val_loss: 241.3217\n",
      "Epoch 11/20\n",
      "5/5 [==============================] - 0s 29ms/step - loss: -0.0025 - val_loss: 241.3406\n",
      "Epoch 12/20\n",
      "5/5 [==============================] - 0s 32ms/step - loss: 0.0718 - val_loss: 241.3307\n",
      "Epoch 13/20\n",
      "5/5 [==============================] - 0s 29ms/step - loss: -0.1539 - val_loss: 241.3596\n",
      "Epoch 14/20\n",
      "5/5 [==============================] - 0s 32ms/step - loss: -0.0599 - val_loss: 241.4805\n",
      "Epoch 15/20\n",
      "5/5 [==============================] - 0s 33ms/step - loss: 0.0330 - val_loss: 241.4755\n",
      "Epoch 16/20\n",
      "5/5 [==============================] - 0s 24ms/step - loss: -0.1474 - val_loss: 241.4888\n",
      "Epoch 17/20\n",
      "5/5 [==============================] - 0s 28ms/step - loss: -0.0141 - val_loss: 241.5230\n",
      "Epoch 18/20\n",
      "5/5 [==============================] - 0s 26ms/step - loss: -0.3574 - val_loss: 241.4953\n",
      "Epoch 19/20\n",
      "5/5 [==============================] - 0s 28ms/step - loss: -0.0014 - val_loss: 241.5112\n",
      "Epoch 20/20\n",
      "5/5 [==============================] - 0s 26ms/step - loss: -0.0415 - val_loss: 241.7427\n"
     ]
    },
    {
     "data": {
      "text/plain": [
       "<tensorflow.python.keras.callbacks.History at 0x7ff2ff3ed190>"
      ]
     },
     "execution_count": 121,
     "metadata": {},
     "output_type": "execute_result"
    }
   ],
   "source": [
    "random.seed(14)\n",
    "\n",
    "# build a simple binary classifier in Keras\n",
    "int_sequences_input, preds = add_layers()\n",
    "\n",
    "# Create a CrowdLayer object\n",
    "crowd = CrowdsClassification(2, crowd_matrix.shape[1], conn_type=\"SW\")(preds)\n",
    "\n",
    "# Attach crowd layer on top of the base model\n",
    "model = keras.Model(int_sequences_input, crowd)\n",
    "model.summary()\n",
    "\n",
    "model.compile(\n",
    "    # a masked loss function is required because we do not have labels from all annotators for all data points\n",
    "    loss=MaskedMultiCrossEntropy().loss, \n",
    "    optimizer=\"adam\"\n",
    ")\n",
    "\n",
    "# get the crowd labels for the training set\n",
    "y_train_crowd = crowd_matrix[textdata.index.values.astype(int)[:split_size], :]\n",
    "print(y_train_crowd.shape)\n",
    "\n",
    "# train the model\n",
    "model.fit(x_train, y_train_crowd, batch_size=128, epochs=20, validation_data=(x_val, y_val))"
   ]
  },
  {
   "cell_type": "markdown",
   "id": "conventional-award",
   "metadata": {},
   "source": [
    "### Compute performance metrics\n",
    "\n",
    "To make predictions, we now need to modify the model by taking the CrowdLayer off again, as we want to predict the true labels, not the crowd labels."
   ]
  },
  {
   "cell_type": "code",
   "execution_count": 122,
   "id": "jewish-garden",
   "metadata": {},
   "outputs": [
    {
     "name": "stdout",
     "output_type": "stream",
     "text": [
      "Model: \"model_34\"\n",
      "_________________________________________________________________\n",
      "Layer (type)                 Output Shape              Param #   \n",
      "=================================================================\n",
      "input_24 (InputLayer)        [(None, None)]            0         \n",
      "_________________________________________________________________\n",
      "embedding_23 (Embedding)     (None, None, 50)          100100    \n",
      "_________________________________________________________________\n",
      "conv1d_36 (Conv1D)           (None, None, 32)          3232      \n",
      "_________________________________________________________________\n",
      "max_pooling1d_13 (MaxPooling (None, None, 32)          0         \n",
      "_________________________________________________________________\n",
      "conv1d_37 (Conv1D)           (None, None, 32)          5152      \n",
      "_________________________________________________________________\n",
      "global_max_pooling1d_23 (Glo (None, 32)                0         \n",
      "_________________________________________________________________\n",
      "dense_46 (Dense)             (None, 32)                1056      \n",
      "_________________________________________________________________\n",
      "dropout_23 (Dropout)         (None, 32)                0         \n",
      "_________________________________________________________________\n",
      "dense_47 (Dense)             (None, 2)                 66        \n",
      "=================================================================\n",
      "Total params: 109,606\n",
      "Trainable params: 9,506\n",
      "Non-trainable params: 100,100\n",
      "_________________________________________________________________\n",
      "(200, 2)\n",
      "Method = CNN+CrowdLayer\n",
      "Accuracy = 0.505\n",
      "F1 score = 0.6319702602230484\n",
      "Cross entropy error = 1.0513658300507813\n"
     ]
    }
   ],
   "source": [
    "# The current model's output will give us a prediction of the crowd labels.\n",
    "# To get the true label prediction, we need to go one layer back...\n",
    "predictions = model.layers[-2].output  \n",
    "\n",
    "# And recompile the model...\n",
    "pmodel = keras.Model(inputs=int_sequences_input, outputs=predictions)\n",
    "pmodel.summary()\n",
    "pmodel.compile(optimizer='adam', loss='categorical_crossentropy')\n",
    "\n",
    "# predict on the validation set\n",
    "y_val_prob = np.array(pmodel.predict(x_val))\n",
    "print(y_val_prob.shape)\n",
    "y_val_pred = np.argmax(y_val_prob, axis=1)\n",
    "\n",
    "#print results\n",
    "show_metrics(y_val, [y_val_prob[:, 1]], [y_val_pred], [\"CNN+CrowdLayer\"])"
   ]
  },
  {
   "cell_type": "markdown",
   "id": "light-constitution",
   "metadata": {},
   "source": [
    "Do you see any improvement in the results with the CrowdLayer? The NN is quite basic and its performance varies depending on the random initialisation and random training/validation splits. However, if you repeat the method multiple times, you should see that the CrowdLayer tends to give much better results."
   ]
  },
  {
   "cell_type": "code",
   "execution_count": null,
   "id": "binary-yellow",
   "metadata": {},
   "outputs": [],
   "source": []
  }
 ],
 "metadata": {
  "kernelspec": {
   "display_name": "Python 3",
   "language": "python",
   "name": "python3"
  },
  "language_info": {
   "codemirror_mode": {
    "name": "ipython",
    "version": 3
   },
   "file_extension": ".py",
   "mimetype": "text/x-python",
   "name": "python",
   "nbconvert_exporter": "python",
   "pygments_lexer": "ipython3",
   "version": "3.7.6"
  }
 },
 "nbformat": 4,
 "nbformat_minor": 5
}
