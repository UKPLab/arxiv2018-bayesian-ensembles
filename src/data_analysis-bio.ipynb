{
 "cells": [
  {
   "cell_type": "code",
   "execution_count": 2,
   "metadata": {
    "collapsed": false
   },
   "outputs": [
    {
     "name": "stderr",
     "output_type": "stream",
     "text": [
      "/usr/local/lib/python2.7/dist-packages/matplotlib/font_manager.py:273: UserWarning: Matplotlib is building the font cache using fc-list. This may take a moment.\n",
      "  warnings.warn('Matplotlib is building the font cache using fc-list. This may take a moment.')\n"
     ]
    },
    {
     "name": "stdout",
     "output_type": "stream",
     "text": [
      "Using matplotlib backend: Qt4Agg\n",
      "Populating the interactive namespace from numpy and matplotlib\n",
      "complete\n"
     ]
    }
   ],
   "source": [
    "%pylab\n",
    "import pandas as pd\n",
    "import pickle\n",
    "import os\n",
    "print('complete')"
   ]
  },
  {
   "cell_type": "code",
   "execution_count": 3,
   "metadata": {
    "collapsed": false
   },
   "outputs": [
    {
     "name": "stdout",
     "output_type": "stream",
     "text": [
      "(1424721, 1)\n",
      "(1415895, 1)\n",
      "(1424721, 1)\n"
     ]
    }
   ],
   "source": [
    "root = '../../../data/bayesian_sequence_combination/data/bio'\n",
    "\n",
    "d169   = pd.read_csv(root + '/text.csv', header=None).values\n",
    "apu    = pd.read_csv(root + '_apu/text.csv', header=None).values\n",
    "krusty = pd.read_csv(root + '_krusty/text.csv', header=None).values\n",
    "\n",
    "print(d169.shape)\n",
    "print(apu.shape)\n",
    "print(krusty.shape)\n"
   ]
  },
  {
   "cell_type": "code",
   "execution_count": 9,
   "metadata": {
    "collapsed": false
   },
   "outputs": [
    {
     "name": "stdout",
     "output_type": "stream",
     "text": [
      "(1424721, 1)\n",
      "(1434201, 1)\n",
      "(1424721, 1)\n"
     ]
    }
   ],
   "source": [
    "d169g   = pd.read_csv(root + '/gt.csv', header=None).values\n",
    "apug    = pd.read_csv(root + '_apu/gt.csv', header=None).values\n",
    "krustyg = pd.read_csv(root + '_krusty/gt.csv', header=None).values\n",
    "\n",
    "print(d169g.shape)\n",
    "print(apug.shape)\n",
    "print(krustyg.shape)"
   ]
  },
  {
   "cell_type": "code",
   "execution_count": 14,
   "metadata": {
    "collapsed": false
   },
   "outputs": [
    {
     "name": "stdout",
     "output_type": "stream",
     "text": [
      "(1424721, 1)\n",
      "(1434201, 1)\n",
      "(1424721, 1)\n",
      "9480\n",
      "4740\n",
      "9480\n",
      "382\n",
      "191\n",
      "382\n"
     ]
    }
   ],
   "source": [
    "d169   = pd.read_csv(root + '/doc_start.csv', header=None).values\n",
    "apu    = pd.read_csv(root + '_apu/doc_start.csv', header=None).values\n",
    "krusty = pd.read_csv(root + '_krusty/doc_start.csv', header=None).values\n",
    "\n",
    "print(d169.shape)\n",
    "print(apu.shape)\n",
    "print(krusty.shape)\n",
    "\n",
    "print(np.sum(d169))\n",
    "print(np.sum(apu))\n",
    "print(np.sum(krusty))\n",
    "\n",
    "print(np.sum(d169 & (d169g != -1)))\n",
    "print(np.sum(apu & (apug != -1)))\n",
    "print(np.sum(krusty & (krustyg != -1)))"
   ]
  },
  {
   "cell_type": "code",
   "execution_count": null,
   "metadata": {
    "collapsed": true
   },
   "outputs": [],
   "source": []
  }
 ],
 "metadata": {
  "kernelspec": {
   "display_name": "Python 2",
   "language": "python",
   "name": "python2"
  },
  "language_info": {
   "codemirror_mode": {
    "name": "ipython",
    "version": 2
   },
   "file_extension": ".py",
   "mimetype": "text/x-python",
   "name": "python",
   "nbconvert_exporter": "python",
   "pygments_lexer": "ipython2",
   "version": "2.7.12"
  }
 },
 "nbformat": 4,
 "nbformat_minor": 1
}
