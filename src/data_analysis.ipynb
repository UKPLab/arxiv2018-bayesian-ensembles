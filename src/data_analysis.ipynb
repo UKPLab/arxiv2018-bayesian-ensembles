{
 "cells": [
  {
   "cell_type": "code",
   "execution_count": 3,
   "metadata": {
    "collapsed": false
   },
   "outputs": [
    {
     "name": "stdout",
     "output_type": "stream",
     "text": [
      "Using matplotlib backend: Qt4Agg\n",
      "Populating the interactive namespace from numpy and matplotlib\n"
     ]
    }
   ],
   "source": [
    "%pylab\n",
    "import pandas as pd\n",
    "import pickle\n",
    "import os"
   ]
  },
  {
   "cell_type": "code",
   "execution_count": 4,
   "metadata": {
    "collapsed": true
   },
   "outputs": [],
   "source": [
    "# Task: find sequence of tokens where BSC-seq-IF gets it right but MV and HMMCrowd fail.\n",
    "# Steps:\n",
    "# 1. load gold\n",
    "# 2. load text\n",
    "# 3. load crowd annotations\n",
    "# 3. load predictions from each method.\n",
    "# 4. Scroll through gold, stop when we get a token where BSC is correct and others are wrong.\n",
    "# 5. Map the token idxs to NER labels or IOB labels.\n",
    "# 6. For the 10 previous and subsequent tokens, print:\n",
    "# (a) the text, \n",
    "# (b) the crowd labels \n",
    "# (c) the gold and \n",
    "# (d) the predictions\n",
    "# 8. ask user to save it. If no, continue scrolling to next candidate.\n",
    "# 7. Use inkscape to turn this into a pretty diagram\n"
   ]
  },
  {
   "cell_type": "code",
   "execution_count": 32,
   "metadata": {
    "collapsed": false
   },
   "outputs": [
    {
     "name": "stdout",
     "output_type": "stream",
     "text": [
      "(42974, 1)\n",
      "(42974, 47)\n",
      "(42974, 1)\n"
     ]
    }
   ],
   "source": [
    "golddir = '../../../data/bayesian_annotator_combination/data/ner/'\n",
    "\n",
    "goldfile = os.path.join(golddir, 'task1_test_gt.csv')\n",
    "gold = pd.read_csv(goldfile).values\n",
    "print(gold.shape)\n",
    "\n",
    "annofile = os.path.join(golddir, 'task1_test_annos.csv')\n",
    "annos = pd.read_csv(annofile).values\n",
    "print(annos.shape)\n",
    "\n",
    "textfile = os.path.join(golddir, 'task1_test_text.csv')\n",
    "text = pd.read_csv(textfile).values\n",
    "print(text.shape)"
   ]
  },
  {
   "cell_type": "code",
   "execution_count": null,
   "metadata": {
    "collapsed": false
   },
   "outputs": [],
   "source": [
    "resdir = '../../../data/bayesian_annotator_combination/output/good_results/ner-by-sentence/'\n",
    "resfile = os.path.join(resdir, 'pred_started-2018-06-23-07-01-12-Nseen6045.csv')\n",
    "res = pd.read_csv(resfile)\n",
    "print(res.columns)\n",
    "bronze = [] # list of runner up methods' predictions\n",
    "bronze.append(res[\"# 'majority'\"].values)\n",
    "bronze.append(res[\" 'ds'\"].values)\n",
    "\n",
    "resfile = os.path.join(resdir, 'pred_started-2018-06-24-07-48-06-Nseen6045.csv')\n",
    "res = pd.read_csv(resfile)\n",
    "print(res.columns)\n",
    "bronze.append(res[\"# 'HMM_crowd'\"].values)\n",
    "bronze.append(res[\" 'HMM_crowd_then_LSTM'\"].values)\n",
    "\n",
    "resfile = os.path.join(resdir, 'pred_started-2018-06-23-05-20-51-Nseen6045.csv')\n",
    "res = pd.read_csv(resfile)\n",
    "print(res.columns)\n",
    "silver = res[\"# 'bac_seq_integrateBOF'\"]"
   ]
  },
  {
   "cell_type": "code",
   "execution_count": null,
   "metadata": {
    "collapsed": false
   },
   "outputs": [],
   "source": [
    "for i in range(len(gold)):\n",
    "    if gold[i] == silver[i] and gold[i] != bronze[0][i]:\n",
    "        print('match found. Type s to save, n to continue, x to exit: ')\n",
    "        input = raw_input(\">>>\")\n",
    "        print(input)\n",
    "        #if input == 'x':\n",
    "        #    break\n",
    "    else:\n",
    "        continue"
   ]
  },
  {
   "cell_type": "code",
   "execution_count": null,
   "metadata": {
    "collapsed": true
   },
   "outputs": [],
   "source": []
  }
 ],
 "metadata": {
  "kernelspec": {
   "display_name": "Python 2",
   "language": "python",
   "name": "python2"
  },
  "language_info": {
   "codemirror_mode": {
    "name": "ipython",
    "version": 2
   },
   "file_extension": ".py",
   "mimetype": "text/x-python",
   "name": "python",
   "nbconvert_exporter": "python",
   "pygments_lexer": "ipython2",
   "version": "2.7.12"
  }
 },
 "nbformat": 4,
 "nbformat_minor": 0
}
