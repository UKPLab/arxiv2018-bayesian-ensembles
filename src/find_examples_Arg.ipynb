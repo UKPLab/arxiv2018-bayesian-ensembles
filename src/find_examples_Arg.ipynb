{
 "cells": [
  {
   "cell_type": "markdown",
   "metadata": {},
   "source": [
    "Find an example from ARG where BSC-seq is correct and HMM-crowd and IBCC are not."
   ]
  },
  {
   "cell_type": "code",
   "execution_count": 24,
   "metadata": {},
   "outputs": [],
   "source": [
    "import os\n",
    "import pandas as pd\n",
    "import numpy as np"
   ]
  },
  {
   "cell_type": "code",
   "execution_count": 31,
   "metadata": {},
   "outputs": [],
   "source": [
    "# results files for BSC-seq, IBCC and HMM-crowd:\n",
    "data_dir = os.path.expanduser('~/data/bayesian_sequence_combination/output/arg_LMU_final')\n",
    "\n",
    "ibcc = pd.read_csv(data_dir + '/pred_started-2019-05-19-01-47-32-Nseen40000.csv').values.astype(int)\n",
    "bsc = pd.read_csv(data_dir + '/pred_started-2019-05-09-23-33-51-Nseen40000.csv').values.astype(int)\n",
    "hmm = pd.read_csv(data_dir + '/pred_started-2019-05-10-18-50-04-Nseen40000.csv').values.astype(int)\n",
    "mv = pd.read_csv(data_dir + '/pred_started-2019-05-11-00-25-58-Nseen40000.csv', usecols=[0]).values.astype(int)"
   ]
  },
  {
   "cell_type": "code",
   "execution_count": 43,
   "metadata": {},
   "outputs": [],
   "source": [
    "data_dir = os.path.expanduser('~/data/bayesian_sequence_combination/data/argmin_LMU/')\n",
    "\n",
    "gt = pd.read_csv(data_dir + 'evaluation_gold.csv', usecols=[1]).values.astype(int)\n",
    "crowd = pd.read_csv(data_dir + 'evaluation_crowd.csv').values[:, 1:].astype(int)\n",
    "doc_start = pd.read_csv(data_dir + 'evaluation_doc_start.csv', usecols=[1]).values.astype(int)\n",
    "text = pd.read_csv(data_dir + 'evaluation_text.csv', usecols=[1]).values\n",
    "\n",
    "text[text==','] = '_'\n",
    "text[text=='\"'] = '_'\n",
    "text[text==\"'\"] = '_'"
   ]
  },
  {
   "cell_type": "code",
   "execution_count": 87,
   "metadata": {},
   "outputs": [],
   "source": [
    "idxs = np.argwhere(((gt == 2) | (gt == 4)) & (bsc == gt) & (ibcc != gt) & (gt != -1))[:, 0].flatten()"
   ]
  },
  {
   "cell_type": "code",
   "execution_count": 88,
   "metadata": {},
   "outputs": [
    {
     "name": "stdout",
     "output_type": "stream",
     "text": [
      "Match 0\n",
      "4,3,3,1,1,4,3,3,1,1,4,3,3,3,3,3,3,1,1,-1,-1,-1,-1,-1,-1\n",
      "abortion,hurts,women,_,that,it,harms,them,_,that,it,is,unsafe,and,even,_,deadly,.,_,This,means,that,the,people,who\n",
      "4,3,3,1,1,1,1,1,1,1,4,3,3,3,3,3,3,1,1,1,1,1,2,0,0\n",
      "4,3,3,1,1,1,1,1,1,1,1,1,1,1,1,1,1,1,1,1,1,1,2,0,0\n",
      "4,3,3,1,1,1,1,1,1,1,1,1,1,1,1,1,1,1,1,1,1,1,2,0,0\n",
      "4,3,3,1,1,1,1,1,1,1,1,1,1,1,1,1,1,1,1,1,1,1,2,0,0\n",
      "workers:\n",
      "4,3,3,1,1,1,1,1,1,1,1,1,1,1,1,1,1,1,1,-1,-1,-1,-1,-1,-1\n",
      "4,3,3,1,1,1,1,1,1,1,1,1,1,1,1,1,1,1,1,-1,-1,-1,-1,-1,-1\n",
      "1,1,1,1,1,1,1,1,1,1,1,1,1,1,1,1,1,1,1,-1,-1,-1,-1,-1,-1\n",
      "4,3,3,1,1,1,1,1,1,1,1,1,1,1,1,1,1,1,1,-1,-1,-1,-1,-1,-1\n",
      "4,3,3,1,1,1,1,1,1,1,4,3,3,3,3,3,3,1,1,-1,-1,-1,-1,-1,-1\n",
      "Match 1\n",
      "-1,-1,-1,-1,-1,-1,-1,-1,-1,1,2,0,0,0,0,0,0,0,0,0,1,1,1,1,1\n",
      "the,tipped,minimum,wage,was,established,in,1966,.,aC/,Stem,cells,can,be,cloned,to,deal,with,cardiac,failures,this,type,of,cloning,is\n",
      "1,1,1,1,1,1,1,1,1,1,2,0,0,0,0,0,0,0,0,0,1,1,1,1,1\n",
      "1,1,1,1,1,1,1,1,1,1,1,0,0,0,0,0,0,0,0,0,1,1,1,1,1\n",
      "1,1,1,1,1,1,1,1,1,1,2,0,0,0,0,0,0,0,0,0,1,1,1,1,1\n",
      "1,1,1,1,1,1,1,1,1,1,1,0,0,0,0,0,0,0,0,0,1,1,1,1,1\n",
      "workers:\n",
      "-1,-1,-1,-1,-1,-1,-1,-1,-1,1,1,2,0,0,0,0,0,0,0,0,1,1,1,1,1\n",
      "-1,-1,-1,-1,-1,-1,-1,-1,-1,1,1,1,1,1,1,1,1,1,1,1,1,1,1,1,1\n",
      "-1,-1,-1,-1,-1,-1,-1,-1,-1,1,1,1,1,1,1,1,1,1,1,1,1,1,1,1,1\n",
      "-1,-1,-1,-1,-1,-1,-1,-1,-1,1,2,0,0,0,0,0,0,0,0,0,1,1,1,1,1\n",
      "-1,-1,-1,-1,-1,-1,-1,-1,-1,2,0,0,0,0,0,0,0,0,0,0,1,1,1,1,1\n",
      "Match 2\n",
      "3,3,3,3,3,3,3,3,1,1,4,3,3,3,3,3,3,3,3,3,3,3,3,3,3\n",
      "death,penalty,acts,as,a,deterrent,to,murder,_,and,they,rate,it,as,one,of,most,inefficient,uses,of,taxpayer,dollars,in,fighting,crime\n",
      "3,3,3,3,3,3,3,3,1,1,4,3,3,3,3,3,3,3,3,3,3,3,3,3,3\n",
      "3,3,3,3,3,3,3,3,1,1,1,1,1,1,1,1,1,1,1,1,1,1,1,1,1\n",
      "3,3,3,3,3,3,3,3,1,1,1,1,1,1,1,1,1,1,1,1,1,1,1,1,1\n",
      "3,3,3,3,3,3,3,3,1,1,1,1,1,1,1,1,1,1,1,1,1,1,1,1,1\n",
      "workers:\n",
      "3,3,3,3,3,3,3,3,1,1,1,1,1,1,1,1,1,1,1,1,1,1,1,1,1\n",
      "3,3,3,3,3,3,3,3,1,1,1,1,1,1,1,1,1,1,1,1,1,1,1,1,1\n",
      "3,3,3,3,3,3,3,3,1,1,4,3,3,3,3,3,3,3,3,3,3,3,3,3,3\n",
      "3,3,3,3,3,3,3,3,1,1,1,1,1,1,1,1,1,1,1,1,1,1,1,1,1\n",
      "1,1,1,1,1,1,1,1,1,1,1,1,1,1,1,1,1,1,1,1,1,1,1,1,1\n"
     ]
    }
   ],
   "source": [
    "idxs = idxs[np.argwhere(np.any((crowd[idxs]==0) | (crowd[idxs]==3), axis=1)).flatten()]\n",
    "iseen = 0\n",
    "while iseen < len(idxs):\n",
    "\n",
    "    print('Match %i' % iseen)\n",
    "    \n",
    "    windowsize = 15\n",
    "    middle = idxs[iseen]\n",
    "    start = idxs[iseen] - 10\n",
    "    if start < 0:\n",
    "        start = 0\n",
    "        \n",
    "    fin = idxs[iseen] + windowsize \n",
    "    counter = idxs[iseen] + 19\n",
    "    while iseen < len(idxs) and idxs[iseen] < counter:\n",
    "        fin = idxs[iseen] + windowsize\n",
    "        iseen += 1\n",
    "    print(\",\".join(gt[start:fin].flatten().astype(str)))\n",
    "    print(\",\".join(text[start:fin].flatten()))\n",
    "    print(\",\".join(bsc[start:fin].flatten().astype(str)))\n",
    "    print(\",\".join(ibcc[start:fin].flatten().astype(str)))\n",
    "    print(\",\".join(hmm[start:fin].flatten().astype(str)))\n",
    "    print(\",\".join(mv[start:fin].flatten().astype(str)))        \n",
    "    \n",
    "    print('workers:')\n",
    "    workers = np.argwhere(crowd[middle] != -1).flatten()[:5]\n",
    "    for w in workers:\n",
    "        print(\",\".join(crowd[start:fin, w].astype(str)))\n",
    "    "
   ]
  },
  {
   "cell_type": "code",
   "execution_count": 77,
   "metadata": {},
   "outputs": [],
   "source": [
    "crowdidxs = np.any((crowd[idxs]==0) | (crowd[idxs]==3), axis=1)"
   ]
  },
  {
   "cell_type": "code",
   "execution_count": 76,
   "metadata": {},
   "outputs": [
    {
     "data": {
      "text/plain": [
       "(214058, 124)"
      ]
     },
     "execution_count": 76,
     "metadata": {},
     "output_type": "execute_result"
    }
   ],
   "source": [
    "crowd.shape"
   ]
  },
  {
   "cell_type": "code",
   "execution_count": null,
   "metadata": {},
   "outputs": [],
   "source": []
  }
 ],
 "metadata": {
  "kernelspec": {
   "display_name": "Python 3",
   "language": "python",
   "name": "python3"
  },
  "language_info": {
   "codemirror_mode": {
    "name": "ipython",
    "version": 3
   },
   "file_extension": ".py",
   "mimetype": "text/x-python",
   "name": "python",
   "nbconvert_exporter": "python",
   "pygments_lexer": "ipython3",
   "version": "3.6.4"
  }
 },
 "nbformat": 4,
 "nbformat_minor": 2
}
