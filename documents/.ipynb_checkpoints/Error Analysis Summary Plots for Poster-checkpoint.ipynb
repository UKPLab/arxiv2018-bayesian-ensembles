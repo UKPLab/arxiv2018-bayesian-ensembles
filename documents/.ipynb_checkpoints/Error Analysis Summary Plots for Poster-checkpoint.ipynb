{
 "cells": [
  {
   "cell_type": "code",
   "execution_count": 33,
   "metadata": {
    "collapsed": false
   },
   "outputs": [],
   "source": [
    "import numpy as np\n",
    "\n",
    "# NER results -- span detection\n",
    "exact = [2869, 3742, 3650, 3381, 3856, 3995]\n",
    "FN = [1775, 829, 1045, 1399, 863, 686]\n",
    "FP = [100, 345, 210, 121, 315, 357]\n",
    "total = 5144.0\n",
    "inexact = total - np.array(exact)\n",
    "\n",
    "# length errors\n",
    "latestart = np.array([96, 107, 109, 94, 124, 84])\n",
    "earlystart = np.array([10, 27, 22, 17, 25, 29])\n",
    "latefin = np.array([15, 43, 33, 18, 63, 25])\n",
    "earlyfin = np.array([85, 77, 89, 90, 77, 88])\n",
    "# type\n",
    "wrongtype = [304, 386, 334, 284, 362, 353]\n",
    "# splitting errors\n",
    "fused = np.array([17, 47, 37, 22, 53, 28])\n",
    "split = np.array([26, 29, 23, 8, 13, 26])\n",
    "# bad transitions\n",
    "invalid = [81, 74, 0, 0, 0, 0]"
   ]
  },
  {
   "cell_type": "code",
   "execution_count": 39,
   "metadata": {
    "collapsed": false
   },
   "outputs": [],
   "source": [
    "lengtherrs = latestart + earlystart + latefin + earlyfin + fused + split\n",
    "\n",
    "i = 0\n",
    "mverrs = np.array([inexact[i]/total, FN[i]/total, FP[i]/total, lengtherrs[i]/total, invalid[i]/total])\n",
    "\n",
    "i = 1\n",
    "ibccerrs = np.array([inexact[i]/total, FN[i]/total, FP[i]/total, lengtherrs[i]/total, invalid[i]/total])\n",
    "\n",
    "i = 2\n",
    "hmmerrs = np.array([inexact[i]/total, FN[i]/total, FP[i]/total, lengtherrs[i]/total, invalid[i]/total])\n",
    "\n",
    "i = 5\n",
    "bscseqerrs = np.array([inexact[i]/total, FN[i]/total, FP[i]/total, lengtherrs[i]/total, invalid[i]/total])\n"
   ]
  },
  {
   "cell_type": "code",
   "execution_count": 44,
   "metadata": {
    "collapsed": false
   },
   "outputs": [
    {
     "data": {
      "text/plain": [
       "<matplotlib.legend.Legend at 0x7f8db6163e48>"
      ]
     },
     "execution_count": 44,
     "metadata": {},
     "output_type": "execute_result"
    },
    {
     "data": {
      "image/png": "[encoded data removed]",
      "text/plain": [
       "<Figure size 432x288 with 1 Axes>"
      ]
     },
     "metadata": {
      "needs_background": "light"
     },
     "output_type": "display_data"
    }
   ],
   "source": [
    "import matplotlib.pyplot as plt\n",
    "plt.bar(range(len(mverrs)), mverrs, width=0.2, tick_label=['spans with errors', 'missed spans', 'false +ve', 'length/split errors', 'invalid labels'], label='majority vote')\n",
    "plt.bar(np.arange(len(mverrs)) + 0.2, ibccerrs, width=0.2, label='IBCC')\n",
    "plt.bar(np.arange(len(mverrs)) + 0.4, hmmerrs, width=0.2, label='HMM-crowd')\n",
    "plt.bar(np.arange(len(mverrs)) + 0.6, bscseqerrs, width=0.2, label='BSC-seq')\n",
    "plt.legend(loc='best')"
   ]
  },
  {
   "cell_type": "code",
   "execution_count": 37,
   "metadata": {
    "collapsed": false
   },
   "outputs": [
    {
     "data": {
      "text/plain": [
       "226"
      ]
     },
     "execution_count": 37,
     "metadata": {},
     "output_type": "execute_result"
    }
   ],
   "source": [
    "lengtherrs[5]"
   ]
  },
  {
   "cell_type": "code",
   "execution_count": 38,
   "metadata": {
    "collapsed": false
   },
   "outputs": [
    {
     "data": {
      "text/plain": [
       "253"
      ]
     },
     "execution_count": 38,
     "metadata": {},
     "output_type": "execute_result"
    }
   ],
   "source": [
    "lengtherrs[2]"
   ]
  },
  {
   "cell_type": "code",
   "execution_count": null,
   "metadata": {
    "collapsed": true
   },
   "outputs": [],
   "source": []
  }
 ],
 "metadata": {
  "kernelspec": {
   "display_name": "bac",
   "language": "python",
   "name": "bac"
  },
  "language_info": {
   "codemirror_mode": {
    "name": "ipython",
    "version": 3
   },
   "file_extension": ".py",
   "mimetype": "text/x-python",
   "name": "python",
   "nbconvert_exporter": "python",
   "pygments_lexer": "ipython3",
   "version": "3.6.5"
  }
 },
 "nbformat": 4,
 "nbformat_minor": 1
}
